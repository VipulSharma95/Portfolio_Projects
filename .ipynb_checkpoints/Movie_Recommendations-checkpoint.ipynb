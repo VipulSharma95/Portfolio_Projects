{
 "cells": [
  {
   "cell_type": "markdown",
   "id": "253a057f-775a-42df-a90d-1c373df982d1",
   "metadata": {},
   "source": [
    "# Movie Recommendation System in Python"
   ]
  },
  {
   "cell_type": "markdown",
   "id": "2157ffcb-88c5-4271-8967-2e14dab963e7",
   "metadata": {},
   "source": [
    "In this project, we'll build an interactive movie recommendation system that allows you to type in a movie name and immediately get ten recommendations for other movies you might want to watch\n",
    "\n",
    "We'll be working with movies.csv and ratings.csv data, which we can download using this [link](https://files.grouplens.org/datasets/movielens/ml-25m.zip). The movies.csv dataset is just a listing of different movie titles. Each row includes a single movie and its genre. So, using this dataset, we can build a movie search engine that will find the movie we want.\n",
    "\n",
    "We'll use the other dataset, ratings.csv, to build the recommendation engine."
   ]
  },
  {
   "cell_type": "code",
   "execution_count": null,
   "id": "d2e9c2f7-f24c-4d51-afd4-7a0708f58eb9",
   "metadata": {},
   "outputs": [],
   "source": [
    "import pandas\n"
   ]
  }
 ],
 "metadata": {
  "kernelspec": {
   "display_name": "Python 3 (ipykernel)",
   "language": "python",
   "name": "python3"
  },
  "language_info": {
   "codemirror_mode": {
    "name": "ipython",
    "version": 3
   },
   "file_extension": ".py",
   "mimetype": "text/x-python",
   "name": "python",
   "nbconvert_exporter": "python",
   "pygments_lexer": "ipython3",
   "version": "3.12.6"
  }
 },
 "nbformat": 4,
 "nbformat_minor": 5
}
