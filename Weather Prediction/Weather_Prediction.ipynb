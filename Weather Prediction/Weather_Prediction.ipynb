{
 "cells": [
  {
   "cell_type": "markdown",
   "id": "d77d0583-6e1a-4570-b710-73464e5f21c6",
   "metadata": {},
   "source": [
    "# Project: Predicting The Weather Using Machine Learning"
   ]
  },
  {
   "cell_type": "markdown",
   "id": "62f85fad-e3eb-4c6e-a334-c83e8f695b5b",
   "metadata": {},
   "source": [
    "## Introduction"
   ]
  },
  {
   "cell_type": "markdown",
   "id": "1a510387-83eb-4ed5-9e82-93b9a775e90a",
   "metadata": {},
   "source": [
    "In this project, we'll predict the weather using machine learning. We'll be working with weather data from a station at the Oakland International Airport. The data is from `1960` through `2021`. Each row in the data represents one day, and the columns represent different weather measurements. The data is in a file called `local_weather.csv`\n",
    "\n",
    "\n",
    "First, let's read the data into pandas."
   ]
  },
  {
   "cell_type": "code",
   "execution_count": null,
   "id": "848dbca8-ffdc-4c0c-9871-d7634b6171a6",
   "metadata": {},
   "outputs": [],
   "source": []
  }
 ],
 "metadata": {
  "kernelspec": {
   "display_name": "Python 3 (ipykernel)",
   "language": "python",
   "name": "python3"
  },
  "language_info": {
   "codemirror_mode": {
    "name": "ipython",
    "version": 3
   },
   "file_extension": ".py",
   "mimetype": "text/x-python",
   "name": "python",
   "nbconvert_exporter": "python",
   "pygments_lexer": "ipython3",
   "version": "3.12.6"
  }
 },
 "nbformat": 4,
 "nbformat_minor": 5
}
