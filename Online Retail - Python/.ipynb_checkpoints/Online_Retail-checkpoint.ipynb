{
 "cells": [
  {
   "cell_type": "markdown",
   "id": "e2ab08b3-735e-4ead-b831-380756cda257",
   "metadata": {},
   "source": [
    "# Online Retail"
   ]
  },
  {
   "cell_type": "markdown",
   "id": "60b72772-2823-44de-867e-8e6a75a7dcbd",
   "metadata": {},
   "source": [
    "## Table of Contents\n",
    "\n",
    "- [Introduction](#Introduction)\n",
    "- [Data Loading and Initial Exploration](#Data-Loading-and-Initial-Exploration)\n",
    "- [Data Cleaning](#Data-Cleaning)\n",
    "- [Exploratory Data Analysis](#Exploratory-Data-Analysis)\n",
    "  - [Top Products](#Top-Products)\n",
    "  - [Sales by Country](#Sales-by-Country)\n",
    "  - [Time-Based Analysis](#Time-Based-Analysis)\n",
    "- [RFM Analysis](#RFM-Analysis)\n",
    "  - [Recency](#Recency)\n",
    "  - [Frequency](#Frequency)\n",
    "  - [Monetary](#Monetary)\n",
    "  - [Create RFM Table](#Create-RFM-Table)\n",
    "  - [Score RFM Metrics](#Score-RFM-Metrics)\n",
    "  - [Create RFM Score](#Create-RFM-Score)\n",
    "- [Customer Segmentation (RFM Approach)](#Customer-Segmentation-(RFM-Approach))\n",
    "  - [Analyze Segments](#Analyze-Segments)\n",
    "- [Prediction of Customer Churn](#Prediction-of-Customer-Churn)\n",
    "  - [Feature Selection](#Feature-Selection)\n",
    "  - [Model Training](#Model-Training)\n",
    "  - [Interpretation of Results](#Interpretation-of-Results)"
   ]
  },
  {
   "cell_type": "markdown",
   "id": "2c9deb8e-f1fd-4a9a-8c50-156d3e0d3a34",
   "metadata": {},
   "source": [
    "## Introduction"
   ]
  },
  {
   "cell_type": "markdown",
   "id": "2db20164-5753-41dc-8545-a5ca5fb98035",
   "metadata": {},
   "source": [
    "This is a trans-national data set which contains all the transactions occurring between `01/12/2010` and `09/12/2011` for a UK-based and registered non-store online retail. The company mainly sells unique all-occasion gifts. Many customers of the company are wholesalers.\n",
    "\n",
    "The details about given dataset is as follows - \n",
    "\n",
    "* `InvoiceNo`: Invoice number. Nominal, a 6-digit integral number uniquely assigned to each transaction. If this code starts with letter `'c'`, it indicates a cancellation. \n",
    "* `StockCode`: Product (item) code. Nominal, a 5-digit integral number uniquely assigned to each distinct product.\n",
    "* `Description`: Product (item) name. Nominal.\n",
    "* `Quantity`: The quantities of each product (item) per transaction. Numeric.\t\n",
    "* `InvoiceDate`: Invoice Date and time. Numeric, the day and time when each transaction was generated.\n",
    "* `UnitPrice`: Unit price. Numeric, Product price per unit in sterling.\n",
    "* `CustomerID`: Customer number. Nominal, a 5-digit integral number uniquely assigned to each customer.\n",
    "* `Country`: Country name. Nominal, the name of the country where each customer resides. \n",
    "\n",
    "Further details about this dataset can be found from [here](https://archive.ics.uci.edu/dataset/352/online+retail).\n"
   ]
  },
  {
   "cell_type": "markdown",
   "id": "1c3db8a3-b97b-4e5f-9e03-3d95ac381c19",
   "metadata": {},
   "source": [
    "## Data Loading and Initial Exploration"
   ]
  },
  {
   "cell_type": "markdown",
   "id": "c782353b-4f9d-401b-bf66-37ae757d8170",
   "metadata": {},
   "source": [
    "First we will load this data and perform initial exploration of the given dataset."
   ]
  },
  {
   "cell_type": "code",
   "execution_count": 2,
   "id": "22fb9dbf-545f-4cdf-8579-55ed7f53748f",
   "metadata": {},
   "outputs": [],
   "source": [
    "import pandas as pd\n",
    "\n",
    "retail=pd.read_excel('Online Retail.xlsx')"
   ]
  },
  {
   "cell_type": "code",
   "execution_count": 3,
   "id": "3411334d-b326-4eb2-b635-3b2d095cbce1",
   "metadata": {},
   "outputs": [
    {
     "data": {
      "text/html": [
       "<div>\n",
       "<style scoped>\n",
       "    .dataframe tbody tr th:only-of-type {\n",
       "        vertical-align: middle;\n",
       "    }\n",
       "\n",
       "    .dataframe tbody tr th {\n",
       "        vertical-align: top;\n",
       "    }\n",
       "\n",
       "    .dataframe thead th {\n",
       "        text-align: right;\n",
       "    }\n",
       "</style>\n",
       "<table border=\"1\" class=\"dataframe\">\n",
       "  <thead>\n",
       "    <tr style=\"text-align: right;\">\n",
       "      <th></th>\n",
       "      <th>InvoiceNo</th>\n",
       "      <th>StockCode</th>\n",
       "      <th>Description</th>\n",
       "      <th>Quantity</th>\n",
       "      <th>InvoiceDate</th>\n",
       "      <th>UnitPrice</th>\n",
       "      <th>CustomerID</th>\n",
       "      <th>Country</th>\n",
       "    </tr>\n",
       "  </thead>\n",
       "  <tbody>\n",
       "    <tr>\n",
       "      <th>0</th>\n",
       "      <td>536365</td>\n",
       "      <td>85123A</td>\n",
       "      <td>WHITE HANGING HEART T-LIGHT HOLDER</td>\n",
       "      <td>6</td>\n",
       "      <td>2010-12-01 08:26:00</td>\n",
       "      <td>2.55</td>\n",
       "      <td>17850.0</td>\n",
       "      <td>United Kingdom</td>\n",
       "    </tr>\n",
       "    <tr>\n",
       "      <th>1</th>\n",
       "      <td>536365</td>\n",
       "      <td>71053</td>\n",
       "      <td>WHITE METAL LANTERN</td>\n",
       "      <td>6</td>\n",
       "      <td>2010-12-01 08:26:00</td>\n",
       "      <td>3.39</td>\n",
       "      <td>17850.0</td>\n",
       "      <td>United Kingdom</td>\n",
       "    </tr>\n",
       "    <tr>\n",
       "      <th>2</th>\n",
       "      <td>536365</td>\n",
       "      <td>84406B</td>\n",
       "      <td>CREAM CUPID HEARTS COAT HANGER</td>\n",
       "      <td>8</td>\n",
       "      <td>2010-12-01 08:26:00</td>\n",
       "      <td>2.75</td>\n",
       "      <td>17850.0</td>\n",
       "      <td>United Kingdom</td>\n",
       "    </tr>\n",
       "    <tr>\n",
       "      <th>3</th>\n",
       "      <td>536365</td>\n",
       "      <td>84029G</td>\n",
       "      <td>KNITTED UNION FLAG HOT WATER BOTTLE</td>\n",
       "      <td>6</td>\n",
       "      <td>2010-12-01 08:26:00</td>\n",
       "      <td>3.39</td>\n",
       "      <td>17850.0</td>\n",
       "      <td>United Kingdom</td>\n",
       "    </tr>\n",
       "    <tr>\n",
       "      <th>4</th>\n",
       "      <td>536365</td>\n",
       "      <td>84029E</td>\n",
       "      <td>RED WOOLLY HOTTIE WHITE HEART.</td>\n",
       "      <td>6</td>\n",
       "      <td>2010-12-01 08:26:00</td>\n",
       "      <td>3.39</td>\n",
       "      <td>17850.0</td>\n",
       "      <td>United Kingdom</td>\n",
       "    </tr>\n",
       "  </tbody>\n",
       "</table>\n",
       "</div>"
      ],
      "text/plain": [
       "  InvoiceNo StockCode                          Description  Quantity  \\\n",
       "0    536365    85123A   WHITE HANGING HEART T-LIGHT HOLDER         6   \n",
       "1    536365     71053                  WHITE METAL LANTERN         6   \n",
       "2    536365    84406B       CREAM CUPID HEARTS COAT HANGER         8   \n",
       "3    536365    84029G  KNITTED UNION FLAG HOT WATER BOTTLE         6   \n",
       "4    536365    84029E       RED WOOLLY HOTTIE WHITE HEART.         6   \n",
       "\n",
       "          InvoiceDate  UnitPrice  CustomerID         Country  \n",
       "0 2010-12-01 08:26:00       2.55     17850.0  United Kingdom  \n",
       "1 2010-12-01 08:26:00       3.39     17850.0  United Kingdom  \n",
       "2 2010-12-01 08:26:00       2.75     17850.0  United Kingdom  \n",
       "3 2010-12-01 08:26:00       3.39     17850.0  United Kingdom  \n",
       "4 2010-12-01 08:26:00       3.39     17850.0  United Kingdom  "
      ]
     },
     "execution_count": 3,
     "metadata": {},
     "output_type": "execute_result"
    }
   ],
   "source": [
    "retail.head() #First five rows of the given dataset"
   ]
  },
  {
   "cell_type": "code",
   "execution_count": 4,
   "id": "58d7b60b-cb82-40ab-bbff-4a70a7fece9a",
   "metadata": {},
   "outputs": [
    {
     "data": {
      "text/plain": [
       "InvoiceNo           0\n",
       "StockCode           0\n",
       "Description      1454\n",
       "Quantity            0\n",
       "InvoiceDate         0\n",
       "UnitPrice           0\n",
       "CustomerID     135080\n",
       "Country             0\n",
       "dtype: int64"
      ]
     },
     "execution_count": 4,
     "metadata": {},
     "output_type": "execute_result"
    }
   ],
   "source": [
    "retail.isna().sum()"
   ]
  },
  {
   "cell_type": "markdown",
   "id": "4b9c90f6-e4e0-40f5-8182-6a49d9481ce6",
   "metadata": {},
   "source": [
    "As can be seen from above, The given dataset overall has `541909` rows of data, where the columns `Description` and `CustomerID` are having `1454` and `135080` null values respectively."
   ]
  },
  {
   "cell_type": "code",
   "execution_count": 5,
   "id": "b342132d-23d6-446b-ab22-40965853fae8",
   "metadata": {},
   "outputs": [
    {
     "data": {
      "text/plain": [
       "InvoiceNo              object\n",
       "StockCode              object\n",
       "Description            object\n",
       "Quantity                int64\n",
       "InvoiceDate    datetime64[ns]\n",
       "UnitPrice             float64\n",
       "CustomerID            float64\n",
       "Country                object\n",
       "dtype: object"
      ]
     },
     "execution_count": 5,
     "metadata": {},
     "output_type": "execute_result"
    }
   ],
   "source": [
    "retail.dtypes"
   ]
  },
  {
   "cell_type": "code",
   "execution_count": 6,
   "id": "e21290f6-0618-434d-ba7e-c63c13f760bd",
   "metadata": {},
   "outputs": [
    {
     "data": {
      "text/plain": [
       "InvoiceNo  StockCode  Description                          Quantity  InvoiceDate          UnitPrice  CustomerID  Country       \n",
       "555524     22698      PINK REGENCY TEACUP AND SAUCER        1        2011-06-05 11:37:00  2.95       16923.0     United Kingdom    20\n",
       "           22697      GREEN REGENCY TEACUP AND SAUCER       1        2011-06-05 11:37:00  2.95       16923.0     United Kingdom    12\n",
       "572861     22775      PURPLE DRAWERKNOB ACRYLIC EDWARDIAN   12       2011-10-26 12:46:00  1.25       14102.0     United Kingdom     8\n",
       "572344     M          Manual                                48       2011-10-24 10:43:00  1.50       14607.0     United Kingdom     6\n",
       "541266     21754      HOME BUILDING BLOCK WORD              1        2011-01-16 16:25:00  5.95       15673.0     United Kingdom     6\n",
       "                                                                                                                                   ..\n",
       "C581490    23144      ZINC T-LIGHT HOLDER STARS SMALL      -11       2011-12-09 09:57:00  0.83       14397.0     United Kingdom     1\n",
       "C581499    M          Manual                               -1        2011-12-09 10:28:00  224.69     15498.0     United Kingdom     1\n",
       "C581568    21258      VICTORIAN SEWING BOX LARGE           -5        2011-12-09 11:57:00  10.95      15311.0     United Kingdom     1\n",
       "C581569    20979      36 PENCILS TUBE RED RETROSPOT        -5        2011-12-09 11:58:00  1.25       17315.0     United Kingdom     1\n",
       "536365     84029E     RED WOOLLY HOTTIE WHITE HEART.        6        2010-12-01 08:26:00  3.39       17850.0     United Kingdom     1\n",
       "Name: count, Length: 401604, dtype: int64"
      ]
     },
     "execution_count": 6,
     "metadata": {},
     "output_type": "execute_result"
    }
   ],
   "source": [
    "retail.value_counts()"
   ]
  },
  {
   "cell_type": "markdown",
   "id": "c16cb058-8ff3-460e-83ae-0fbd56e4c331",
   "metadata": {},
   "source": [
    "It can be seen that the given dataset also has incorrect data types for columns. This may have happened due to the presence of \"Invalid Data\" in the source dataset. In the first glance it can be seen that some columns have invalid values, for example `Quantity` column has negative values, which is not possible. \n",
    "\n",
    "Since, we now know that the dataset indeed contains missing and invalid values, we will now perform data cleaning on this dataset and prepare it for further analysis. "
   ]
  },
  {
   "cell_type": "markdown",
   "id": "f4dd2c26-ee72-4c13-ab7b-86c602880762",
   "metadata": {},
   "source": [
    "## Data Cleaning"
   ]
  },
  {
   "cell_type": "markdown",
   "id": "e9a3e801-44ef-472a-81d2-a5b9665a9a7b",
   "metadata": {},
   "source": [
    "First, we will drop the rows with missing customer IDs. "
   ]
  },
  {
   "cell_type": "code",
   "execution_count": 7,
   "id": "16a78390-8d58-4fcc-9889-31e6ddd11624",
   "metadata": {},
   "outputs": [],
   "source": [
    "retail.dropna(subset=[\"CustomerID\"],inplace=True)"
   ]
  },
  {
   "cell_type": "markdown",
   "id": "3c8330f7-25a3-4b49-aeaa-ca3a577bfdca",
   "metadata": {},
   "source": [
    "Next, we remove the records where the ordered items are cancelled. This is depicted by when the `InvoiceNo` code starts with letter 'c', as it indicates a cancellation."
   ]
  },
  {
   "cell_type": "code",
   "execution_count": 8,
   "id": "bd42cb1d-fe06-447e-895c-6e35e89ec4f2",
   "metadata": {},
   "outputs": [
    {
     "name": "stdout",
     "output_type": "stream",
     "text": [
      "<class 'pandas.core.frame.DataFrame'>\n",
      "Index: 397924 entries, 0 to 541908\n",
      "Data columns (total 8 columns):\n",
      " #   Column       Non-Null Count   Dtype         \n",
      "---  ------       --------------   -----         \n",
      " 0   InvoiceNo    397924 non-null  object        \n",
      " 1   StockCode    397924 non-null  object        \n",
      " 2   Description  397924 non-null  object        \n",
      " 3   Quantity     397924 non-null  int64         \n",
      " 4   InvoiceDate  397924 non-null  datetime64[ns]\n",
      " 5   UnitPrice    397924 non-null  float64       \n",
      " 6   CustomerID   397924 non-null  float64       \n",
      " 7   Country      397924 non-null  object        \n",
      "dtypes: datetime64[ns](1), float64(2), int64(1), object(4)\n",
      "memory usage: 27.3+ MB\n",
      "None\n"
     ]
    }
   ],
   "source": [
    "retail=retail[~retail['InvoiceNo'].astype(str).str.startswith('C')]\n",
    "print(retail.info())"
   ]
  },
  {
   "cell_type": "markdown",
   "id": "825a2635-e573-4a32-9eb9-6c228a85e058",
   "metadata": {},
   "source": [
    "Next, we will remove rows with negative values in `Quantity` and `UnitPrice` columns. This is because Quantity and Unit Price can never be negative in real-life situation and since we dont have any given conditions to impute such data, we will entirely remove the rows pertaining to such values. "
   ]
  },
  {
   "cell_type": "code",
   "execution_count": 9,
   "id": "0937a3c6-779b-477e-817f-49f1d9cdef60",
   "metadata": {},
   "outputs": [],
   "source": [
    "retail=retail[retail[\"Quantity\"]>0]\n",
    "retail=retail[retail[\"UnitPrice\"]>0]"
   ]
  },
  {
   "cell_type": "markdown",
   "id": "b6c4ae12-0cd1-40c1-8ced-6280e0d07ac5",
   "metadata": {},
   "source": [
    "Now we will check our dataset for duplicate records, which can induce bias and skewness into our analysis and can therefore result in erroneous results. "
   ]
  },
  {
   "cell_type": "code",
   "execution_count": 10,
   "id": "64991a2d-0a44-4141-9fc2-c7e8c2a52661",
   "metadata": {},
   "outputs": [
    {
     "name": "stdout",
     "output_type": "stream",
     "text": [
      "5192\n"
     ]
    }
   ],
   "source": [
    "print(retail.duplicated().sum())"
   ]
  },
  {
   "cell_type": "code",
   "execution_count": 11,
   "id": "42a742c3-7aa3-4c5b-9f5d-318e489eb11c",
   "metadata": {},
   "outputs": [],
   "source": [
    "retail.drop_duplicates(inplace=True)\n",
    "retail[\"CustomerID\"]=retail[\"CustomerID\"].astype(int)"
   ]
  },
  {
   "cell_type": "code",
   "execution_count": 12,
   "id": "934de4e9-47d1-408c-be03-09382be9f8b0",
   "metadata": {},
   "outputs": [
    {
     "name": "stdout",
     "output_type": "stream",
     "text": [
      "<class 'pandas.core.frame.DataFrame'>\n",
      "Index: 392692 entries, 0 to 541908\n",
      "Data columns (total 8 columns):\n",
      " #   Column       Non-Null Count   Dtype         \n",
      "---  ------       --------------   -----         \n",
      " 0   InvoiceNo    392692 non-null  object        \n",
      " 1   StockCode    392692 non-null  object        \n",
      " 2   Description  392692 non-null  object        \n",
      " 3   Quantity     392692 non-null  int64         \n",
      " 4   InvoiceDate  392692 non-null  datetime64[ns]\n",
      " 5   UnitPrice    392692 non-null  float64       \n",
      " 6   CustomerID   392692 non-null  int64         \n",
      " 7   Country      392692 non-null  object        \n",
      "dtypes: datetime64[ns](1), float64(1), int64(2), object(4)\n",
      "memory usage: 27.0+ MB\n"
     ]
    }
   ],
   "source": [
    "retail.info()"
   ]
  },
  {
   "cell_type": "markdown",
   "id": "0d1c918d-a6bb-4409-8f52-d492242c6d4c",
   "metadata": {},
   "source": [
    "## Exploratory Data Analysis"
   ]
  },
  {
   "cell_type": "markdown",
   "id": "1ab34250-cff2-47ba-b961-b1961b9ef459",
   "metadata": {},
   "source": [
    "Now, after Data Cleaning, let us further explore the data to get an insight into purchasing patterns, customer behaviour and sales trends. "
   ]
  },
  {
   "cell_type": "markdown",
   "id": "8819f590-cd24-4257-87c7-3e6d45bed854",
   "metadata": {},
   "source": [
    "### Top Products"
   ]
  },
  {
   "cell_type": "markdown",
   "id": "83d59ff6-fe95-4b90-b301-29d9dd95b76b",
   "metadata": {},
   "source": [
    "Let us identify the products which are most popular."
   ]
  },
  {
   "cell_type": "code",
   "execution_count": 13,
   "id": "b719214c-e3f1-4ef3-a38e-6ba3549f14ea",
   "metadata": {},
   "outputs": [
    {
     "name": "stdout",
     "output_type": "stream",
     "text": [
      "Description\n",
      "PAPER CRAFT , LITTLE BIRDIE           80995\n",
      "MEDIUM CERAMIC TOP STORAGE JAR        77916\n",
      "WORLD WAR 2 GLIDERS ASSTD DESIGNS     54319\n",
      "JUMBO BAG RED RETROSPOT               46078\n",
      "WHITE HANGING HEART T-LIGHT HOLDER    36706\n",
      "ASSORTED COLOUR BIRD ORNAMENT         35263\n",
      "PACK OF 72 RETROSPOT CAKE CASES       33670\n",
      "POPCORN HOLDER                        30919\n",
      "RABBIT NIGHT LIGHT                    27153\n",
      "MINI PAINT SET VINTAGE                26076\n",
      "Name: Quantity, dtype: int64\n"
     ]
    }
   ],
   "source": [
    "top_10_prod=retail.groupby(by=\"Description\")[\"Quantity\"].sum().sort_values(ascending=False).head(10)\n",
    "print(top_10_prod)"
   ]
  },
  {
   "cell_type": "markdown",
   "id": "8b7c14af-82e7-45e5-bc88-48d86cc7759e",
   "metadata": {},
   "source": [
    "These are the top 10 items by the quantity sold."
   ]
  },
  {
   "cell_type": "markdown",
   "id": "4e44d73a-3fbc-45c5-a92f-60a78707f377",
   "metadata": {},
   "source": [
    "### Sales by Country"
   ]
  },
  {
   "cell_type": "markdown",
   "id": "2124804a-7d7e-4ea5-9ff5-57203e44428b",
   "metadata": {},
   "source": [
    "Next, we look at the total sales figures by country. `Total Sales Price` is calculated by taking a product of `Unit Price` and `Quantity` columns"
   ]
  },
  {
   "cell_type": "code",
   "execution_count": 14,
   "id": "0066ab1d-3015-48fd-bb7d-d900e11ea062",
   "metadata": {},
   "outputs": [
    {
     "name": "stdout",
     "output_type": "stream",
     "text": [
      "Country\n",
      "United Kingdom    7285024.644\n",
      "Netherlands        285446.340\n",
      "EIRE               265262.460\n",
      "Germany            228678.400\n",
      "France             208934.310\n",
      "Australia          138453.810\n",
      "Spain               61558.560\n",
      "Switzerland         56443.950\n",
      "Belgium             41196.340\n",
      "Sweden              38367.830\n",
      "Name: TotalPrice, dtype: float64\n",
      "Country\n",
      "United Kingdom    81.972020\n",
      "Netherlands        3.211878\n",
      "EIRE               2.984767\n",
      "Germany            2.573118\n",
      "France             2.350955\n",
      "Australia          1.557900\n",
      "Spain              0.692665\n",
      "Switzerland        0.635114\n",
      "Belgium            0.463546\n",
      "Sweden             0.431720\n",
      "Name: TotalPrice, dtype: float64\n"
     ]
    }
   ],
   "source": [
    "retail[\"TotalPrice\"]=retail[\"UnitPrice\"]*retail[\"Quantity\"]\n",
    "\n",
    "sales_by_country=retail.groupby(by=\"Country\")[\"TotalPrice\"].sum().sort_values(ascending=False).head(10)\n",
    "print(sales_by_country)\n",
    "sales_by_country=sales_by_country*100.0/retail[\"TotalPrice\"].sum()\n",
    "print(sales_by_country)"
   ]
  },
  {
   "cell_type": "markdown",
   "id": "36348ec5-be80-46f4-a5ff-aee84b7e62f7",
   "metadata": {},
   "source": [
    "#### Analysis"
   ]
  },
  {
   "cell_type": "markdown",
   "id": "b1240a52-62ad-4637-8534-f0e84393a208",
   "metadata": {},
   "source": [
    "Since the Online Retail Store in consideration is based in UK, therefore ~82% of its total sales is constituted by the `United Kingdom`. This statistic exhibits that the store does not have significant presence outside of the United Kingdom. \n",
    "\n",
    "Therefore, the store should establish necessary logistics and supply chain to have a significant presence in neighbouring Europian Countries, after which a formal expansion strategy can be established. "
   ]
  },
  {
   "cell_type": "markdown",
   "id": "f6f19a25-0994-4c24-9cd4-2cb2b0a05872",
   "metadata": {},
   "source": [
    "### Time-Based Analysis"
   ]
  },
  {
   "cell_type": "markdown",
   "id": "5582e701-0b4f-425e-b49e-b2924a64b09d",
   "metadata": {},
   "source": [
    "Since we have timestamp information in `InvoiceDate` column, we will next perform a Time-Based Analysis of the Data."
   ]
  },
  {
   "cell_type": "code",
   "execution_count": 17,
   "id": "993b4240-054b-4017-93e1-c42a9e0e39e6",
   "metadata": {},
   "outputs": [
    {
     "data": {
      "image/png": "[encoded data removed]",
      "text/plain": [
       "<Figure size 640x480 with 1 Axes>"
      ]
     },
     "metadata": {},
     "output_type": "display_data"
    }
   ],
   "source": [
    "import datetime as dt\n",
    "\n",
    "retail[\"Month\"]=retail[\"InvoiceDate\"].dt.strftime(\"%B\")\n",
    "month_order = [\"January\", \"February\", \"March\", \"April\", \"May\", \"June\", \"July\", \"August\", \"September\", \"October\", \"November\", \"December\"]\n",
    "retail[\"Month\"] = pd.Categorical(retail[\"Month\"], categories=month_order, ordered=True)\n",
    "monthly_sales=retail.groupby(by=\"Month\",observed=True)[\"TotalPrice\"].sum()\n",
    "\n",
    "import matplotlib.pyplot as plt\n",
    "monthly_sales.plot(kind='line', title='Monthly Sales')\n",
    "plt.ylabel('Total Sales')\n",
    "plt.xticks(ticks=range(len(month_order)),labels=month_order,rotation=45)\n",
    "plt.gca().yaxis.set_major_formatter('${x:,.0f}')\n",
    "plt.legend()\n",
    "plt.grid(True)\n",
    "plt.show()"
   ]
  },
  {
   "cell_type": "markdown",
   "id": "b93be01d-309b-442d-978b-9baf90171cbf",
   "metadata": {},
   "source": [
    "#### Analysis"
   ]
  },
  {
   "cell_type": "markdown",
   "id": "48ff9fa8-8c02-4d66-b3e2-5e61491cec26",
   "metadata": {},
   "source": [
    "From the above line plot, it can be seen that majority of the total sales occur in the months of `September-December`, where the sales figures for each of these months are above 1 Million Pound Sterling.\n",
    "\n",
    "This can be attributed to increased purchases of gifts for the Christmas and Holiday season during the end of each year."
   ]
  },
  {
   "cell_type": "markdown",
   "id": "a0634dce-456a-47d8-851d-6895066f9474",
   "metadata": {},
   "source": [
    "## RFM Analysis"
   ]
  },
  {
   "cell_type": "markdown",
   "id": "871bd2c8-0154-4c56-a5ef-b0d41e601dca",
   "metadata": {},
   "source": [
    "RFM Analysis is a marketing technique used to quantify and evaluate customer value by focusing on three dimensions:\n",
    "\n",
    "* **Recency (R)**: How recently a customer made a purchase.\n",
    "* **Frequency (F)**: How often a customer makes a purchase.\n",
    "* **Monetary (M)**: How much money a customer spends on purchases.\n",
    "\n",
    "This type of analysis is useful for segmenting customers into different categories based on their purchasing behavior, allowing businesses to tailor their marketing strategies effectively."
   ]
  },
  {
   "cell_type": "markdown",
   "id": "45bcc9f4-15dc-4483-b39d-96a47fd0dd60",
   "metadata": {},
   "source": [
    "### Recency"
   ]
  },
  {
   "cell_type": "markdown",
   "id": "4d54aaae-65aa-4327-a92a-d1f64bb80d15",
   "metadata": {},
   "source": [
    "Recency refers to how recently a customer has made a purchase. \n",
    "\n",
    "We will calculate it by taking the difference between the latest date in the dataset and the last purchase date of each customer."
   ]
  },
  {
   "cell_type": "code",
   "execution_count": 18,
   "id": "8e6b91a3-d4de-40b1-83d5-0247a632658d",
   "metadata": {},
   "outputs": [],
   "source": [
    "ref_date=retail[\"InvoiceDate\"].max()+pd.Timedelta(days=1)\n",
    "recency=retail.groupby('CustomerID')['InvoiceDate'].max().apply(lambda x: (ref_date - x).days)"
   ]
  },
  {
   "cell_type": "markdown",
   "id": "26e6584b-44d0-4a06-b866-05c66aedd23b",
   "metadata": {},
   "source": [
    "### Frequency"
   ]
  },
  {
   "cell_type": "markdown",
   "id": "c628093f-1f0c-41d0-b4ac-f08008494653",
   "metadata": {},
   "source": [
    "Frequency measures how many transactions a customer has made. \n",
    "\n",
    "We will count the number of unique invoices per customer."
   ]
  },
  {
   "cell_type": "code",
   "execution_count": 19,
   "id": "561f7359-cea3-4405-872a-629e185ad766",
   "metadata": {},
   "outputs": [],
   "source": [
    "frequency=retail.groupby('CustomerID')['InvoiceNo'].nunique()"
   ]
  },
  {
   "cell_type": "markdown",
   "id": "01f9ad05-2e04-40aa-9545-b2465f1d50c1",
   "metadata": {},
   "source": [
    "### Monetary"
   ]
  },
  {
   "cell_type": "markdown",
   "id": "6ced0ec4-8aff-4a94-84af-7eb74952b904",
   "metadata": {},
   "source": [
    "We will calculate this by calculating the total spend by each customer"
   ]
  },
  {
   "cell_type": "code",
   "execution_count": 20,
   "id": "f244c5c1-e877-41a9-b7d9-eff482decbd4",
   "metadata": {},
   "outputs": [],
   "source": [
    "monetary=retail.groupby('CustomerID')[\"TotalPrice\"].sum()"
   ]
  },
  {
   "cell_type": "markdown",
   "id": "6bd39d75-ddca-4340-85a1-7109cb8942c2",
   "metadata": {},
   "source": [
    "### Create RFM Table"
   ]
  },
  {
   "cell_type": "markdown",
   "id": "60bbaafe-b784-46c3-b6ff-168976dcc12e",
   "metadata": {},
   "source": [
    "Now, we combine the Recency, Frequency, and Monetary values into a single DataFrame to create a table called `rfm` "
   ]
  },
  {
   "cell_type": "code",
   "execution_count": 21,
   "id": "b655c239-a4f4-4eba-bd47-9b9bd3a748a6",
   "metadata": {},
   "outputs": [
    {
     "data": {
      "text/html": [
       "<div>\n",
       "<style scoped>\n",
       "    .dataframe tbody tr th:only-of-type {\n",
       "        vertical-align: middle;\n",
       "    }\n",
       "\n",
       "    .dataframe tbody tr th {\n",
       "        vertical-align: top;\n",
       "    }\n",
       "\n",
       "    .dataframe thead th {\n",
       "        text-align: right;\n",
       "    }\n",
       "</style>\n",
       "<table border=\"1\" class=\"dataframe\">\n",
       "  <thead>\n",
       "    <tr style=\"text-align: right;\">\n",
       "      <th></th>\n",
       "      <th>Recency</th>\n",
       "      <th>Frequency</th>\n",
       "      <th>Monetary</th>\n",
       "    </tr>\n",
       "    <tr>\n",
       "      <th>CustomerID</th>\n",
       "      <th></th>\n",
       "      <th></th>\n",
       "      <th></th>\n",
       "    </tr>\n",
       "  </thead>\n",
       "  <tbody>\n",
       "    <tr>\n",
       "      <th>12346</th>\n",
       "      <td>326</td>\n",
       "      <td>1</td>\n",
       "      <td>77183.60</td>\n",
       "    </tr>\n",
       "    <tr>\n",
       "      <th>12347</th>\n",
       "      <td>2</td>\n",
       "      <td>7</td>\n",
       "      <td>4310.00</td>\n",
       "    </tr>\n",
       "    <tr>\n",
       "      <th>12348</th>\n",
       "      <td>75</td>\n",
       "      <td>4</td>\n",
       "      <td>1797.24</td>\n",
       "    </tr>\n",
       "    <tr>\n",
       "      <th>12349</th>\n",
       "      <td>19</td>\n",
       "      <td>1</td>\n",
       "      <td>1757.55</td>\n",
       "    </tr>\n",
       "    <tr>\n",
       "      <th>12350</th>\n",
       "      <td>310</td>\n",
       "      <td>1</td>\n",
       "      <td>334.40</td>\n",
       "    </tr>\n",
       "  </tbody>\n",
       "</table>\n",
       "</div>"
      ],
      "text/plain": [
       "            Recency  Frequency  Monetary\n",
       "CustomerID                              \n",
       "12346           326          1  77183.60\n",
       "12347             2          7   4310.00\n",
       "12348            75          4   1797.24\n",
       "12349            19          1   1757.55\n",
       "12350           310          1    334.40"
      ]
     },
     "execution_count": 21,
     "metadata": {},
     "output_type": "execute_result"
    }
   ],
   "source": [
    "rfm=pd.DataFrame({'Recency':recency,\"Frequency\":frequency,\"Monetary\":monetary})\n",
    "rfm=rfm[rfm[\"Monetary\"]>0]\n",
    "rfm.head()"
   ]
  },
  {
   "cell_type": "markdown",
   "id": "779bdc5c-e438-403b-bf0f-5ea0a7758483",
   "metadata": {},
   "source": [
    "### Score RFM Metrics"
   ]
  },
  {
   "cell_type": "markdown",
   "id": "63dc467e-a4e3-4794-ab94-c2916e0d88f5",
   "metadata": {},
   "source": [
    "To perform customer segmentation, we need to score each customer based on their Recency, Frequency, and Monetary values. We typically assign a score from 1 to 5 for each metric (with 5 being the best score and 1 the worst)."
   ]
  },
  {
   "cell_type": "markdown",
   "id": "b5fa9fb9-eb44-496c-a583-a22cd645ce78",
   "metadata": {},
   "source": [
    "#### Recency Scoring"
   ]
  },
  {
   "cell_type": "markdown",
   "id": "bf5dc64b-5c59-48a2-9c54-4adcb9201d3c",
   "metadata": {},
   "source": [
    "A lower recency value is better (customers who have purchased recently are more valuable).\n",
    "\n",
    "Here we divide Recency into 5 bins and reverse the labels so that 5 is recent, 1 is older"
   ]
  },
  {
   "cell_type": "code",
   "execution_count": 22,
   "id": "ee80c4e7-87f6-423a-beae-b51626d142a8",
   "metadata": {},
   "outputs": [],
   "source": [
    "rfm['R_score']=pd.qcut(rfm['Recency'],5,labels=[5,4,3,2,1])"
   ]
  },
  {
   "cell_type": "markdown",
   "id": "a5a5c6bf-03ed-488a-bf85-5c8fdb5b16cd",
   "metadata": {},
   "source": [
    "#### Frequency Scoring"
   ]
  },
  {
   "cell_type": "markdown",
   "id": "0b144d57-e7fc-43c0-b078-c64048aec247",
   "metadata": {},
   "source": [
    "Higher frequency is better (customers who purchase frequently are more valuable).\n",
    "\n",
    "Here we divide Frequency into 5 bins with 5 being the most frequent customers"
   ]
  },
  {
   "cell_type": "code",
   "execution_count": 23,
   "id": "97f8d8b9-3660-487e-aac1-11a00811a4bc",
   "metadata": {},
   "outputs": [],
   "source": [
    "rfm[\"F_score\"]=pd.qcut(rfm[\"Frequency\"].rank(method=\"first\"),5,labels=[1,2,3,4,5])"
   ]
  },
  {
   "cell_type": "markdown",
   "id": "8dc81ec7-444b-42ba-9053-91897b794446",
   "metadata": {},
   "source": [
    "#### Monetary Scoring"
   ]
  },
  {
   "cell_type": "markdown",
   "id": "cbad44d1-b6e6-471b-80e6-a386c0ce0804",
   "metadata": {},
   "source": [
    "Higher monetary value is better (customers who spend more are more valuable).\n",
    "\n",
    "Here we divide Monetary into 5 bins with 5 being the highest spending customers"
   ]
  },
  {
   "cell_type": "code",
   "execution_count": 24,
   "id": "2b657980-fed6-448b-b423-9ca7d9bbf36b",
   "metadata": {},
   "outputs": [],
   "source": [
    "rfm[\"M_score\"]=pd.qcut(rfm[\"Monetary\"],5,labels=[1,2,3,4,5])"
   ]
  },
  {
   "cell_type": "markdown",
   "id": "1a61f6c2-a5fb-4301-97cf-f0b99f884a46",
   "metadata": {},
   "source": [
    "### Create RFM Score"
   ]
  },
  {
   "cell_type": "markdown",
   "id": "623c0449-3a86-4034-9e34-bcc2ce1482f0",
   "metadata": {},
   "source": [
    "Combine the Recency, Frequency, and Monetary scores to create an overall RFM score for each customer. This can be done by concatenating the scores into a single string."
   ]
  },
  {
   "cell_type": "code",
   "execution_count": 25,
   "id": "890ce75c-f6f7-433b-ade6-a8b82cf04daa",
   "metadata": {},
   "outputs": [
    {
     "name": "stdout",
     "output_type": "stream",
     "text": [
      "            Recency  Frequency  Monetary R_score F_score M_score RFM_score\n",
      "CustomerID                                                                \n",
      "12346           326          1  77183.60       1       1       5       115\n",
      "12347             2          7   4310.00       5       5       5       555\n",
      "12348            75          4   1797.24       2       4       4       244\n",
      "12349            19          1   1757.55       4       1       4       414\n",
      "12350           310          1    334.40       1       1       2       112\n"
     ]
    }
   ],
   "source": [
    "rfm['RFM_score'] = rfm['R_score'].astype(str) + rfm['F_score'].astype(str) + rfm['M_score'].astype(str)\n",
    "\n",
    "print(rfm.head())"
   ]
  },
  {
   "cell_type": "markdown",
   "id": "14cc2eb1-1134-4401-a3dc-ea962f401762",
   "metadata": {},
   "source": [
    "## Customer Segmentation (RFM Approach)"
   ]
  },
  {
   "cell_type": "markdown",
   "id": "bfd138b2-9515-4157-a4cf-b16f3aa77896",
   "metadata": {},
   "source": [
    "Since we now have RFM scores, we will now segment customers into categories based on their RFM scores. \n",
    "\n",
    "Below are the details on how we choose to classify customers on the basis of their RFM values. \n",
    "\n",
    "### 1. Champions\n",
    "**Criteria**: High Recency (5), High Frequency (4-5), High Monetary (4-5)\n",
    "\n",
    "The most devoted clientele is represented by champions. These clients have been the most often spending customers, and they have made purchases recently. These consumers are inclined to promote the brand through positive word-of-mouth since they frequently interact with it.\n",
    "\n",
    "**Characteristics:**\n",
    "* Customers in this segment keep making the most recent purchases.\n",
    "* The frequency of purchases is consistent\n",
    "* Monetary spending per transaction is high.\n",
    "\n",
    "**Business Implications**\n",
    "Champions are essential to the steady, long-term success of a company. They offer a consistent source of income and might potentially sway other consumers by spreading the word about the brand. The top objective should be to increase and retain the number of clients in this market.\n",
    "\n",
    "### 2. Loyal Customers\n",
    "**Criteria**: Medium to High Frequency (3-5), Medium to High Monetary (3-5)\n",
    "\n",
    "Loyal customers are as important to any firm as champions. They may not be heavy consumers, but they nonetheless spend a lot of money and buy things frequently.\n",
    "\n",
    "**Characteristics:** \n",
    "* The frequency of purchases is steady and comparable to Champion's market sector.\n",
    "* A substantial contribution to income is ensured by lower average monetary spending and larger volumes in comparison to the Champion segment.\n",
    "* Customers' participation in this category can be further increased by offering a stimulus.\n",
    "\n",
    "**Business Implications**:\n",
    "This market category reflects our clientele's consistency and predictability. They are excellent prospects for cross-selling and upselling campaigns. They may be able to move up to the Champions category by concentrating on improving their experience and value perception.\n",
    "\n",
    "### 3. Potential Loyalists\n",
    "**Criteria**: High Recency (5), Low Frequency (1-2), Low to Medium Monetary (1-2)\n",
    "\n",
    "Potential loyalists are clients who have recently dealt with our company but have not yet formed a routine of making costly or frequent purchases. They represent untapped potential for growth.\n",
    "\n",
    "**Characteristics**:\n",
    "* Recent infrequent or first-time purchases\n",
    "* Less frequent and less valuable in terms of money than Champions and Loyal Customers\n",
    "* Possibility of higher involvement\n",
    "\n",
    "**Business Implications**:\n",
    "This market is crucial to the company's growth. With the right nurturing strategies, these customers can develop into Champions or Loyal Customers. They require targeted engagement to encourage greater spending and more frequent purchases.\n",
    "\n",
    "### 4. At Risk Customers\n",
    "**Criteria**: Low Recency (1-2), Medium Frequency (3-5), Medium Monetary (3-5)\n",
    "\n",
    "Consumers who haven't made any recent purchases yet were once valuable are seen as at-risk. They run the danger of churning if they are not effectively re-engaged.\n",
    "\n",
    "**Characteristics**:\n",
    "* A history of frequent purchasing\n",
    "* A substantial historical monetary contribution\n",
    "* A recent drop in involvement\n",
    "\n",
    "**Business Implications**:\n",
    "This segment must be addressed immediately to prevent churn. Determining the reasons behind their recent lack of participation and implementing targeted re-engagement strategies are crucial. Successfully reactivating these consumers can have a significant influence on revenue and customer retention rates.\n",
    "\n",
    "### 5. Hibernating Customers\n",
    "**Criteria**: Low Recency (1-2), Low Frequency (1-2), Low Monetary (1-2)\n",
    "\n",
    "Hibernating clients have the lowest engagement of any RFM metric. They haven't purchased anything recently, they don't buy often, and when they do, they don't spend much.\n",
    "\n",
    "**Characteristics**:\n",
    "* Infrequent and low-value purchases\n",
    "* Lowest recent brand interaction\n",
    "* Highest risk of churn or possible churn already\n",
    "\n",
    "**Business Implications**:\n",
    "This segment presents an opportunity for learning and reactivation, despite its seeming lack of value. Understanding the causes of these customers' disengagement can help prevent future churn in other markets. Targeted, low-cost reactivation initiatives could be utilized to re-engage these consumers and potentially transfer them into more valuable industries."
   ]
  },
  {
   "cell_type": "code",
   "execution_count": 26,
   "id": "1fd8caf4-40aa-4265-8149-5cc21b083402",
   "metadata": {},
   "outputs": [
    {
     "name": "stdout",
     "output_type": "stream",
     "text": [
      "            Recency  Frequency  Monetary R_score F_score M_score RFM_score  \\\n",
      "CustomerID                                                                   \n",
      "12346           326          1  77183.60       1       1       5       115   \n",
      "12347             2          7   4310.00       5       5       5       555   \n",
      "12348            75          4   1797.24       2       4       4       244   \n",
      "12349            19          1   1757.55       4       1       4       414   \n",
      "12350           310          1    334.40       1       1       2       112   \n",
      "\n",
      "                    Segment  \n",
      "CustomerID                   \n",
      "12346                Normal  \n",
      "12347             Champions  \n",
      "12348       Loyal Customers  \n",
      "12349                Normal  \n",
      "12350           Hibernating  \n"
     ]
    }
   ],
   "source": [
    "def rfm_segment(rfm):\n",
    "    if rfm['R_score'] == 5 and rfm['F_score'] in [4, 5] and rfm['M_score'] in [4, 5]:\n",
    "        return 'Champions'\n",
    "    elif rfm['F_score'] in [3, 4, 5] and rfm['M_score'] in [3, 4, 5]:\n",
    "        return 'Loyal Customers'\n",
    "    elif rfm['R_score'] == 5 and rfm['F_score'] in [1, 2] and rfm['M_score'] in [1,2]:\n",
    "        return 'Potential Loyalists'\n",
    "    elif rfm['R_score'] in [1, 2] and rfm['F_score'] in [3, 4, 5] and rfm['M_score'] in [3,4,5]:\n",
    "        return 'At Risk'\n",
    "    elif rfm['R_score'] in [1, 2] and rfm['F_score'] in [1, 2] and rfm['M_score'] in [1,2]:\n",
    "        return 'Hibernating'\n",
    "    else:\n",
    "        return 'Normal'\n",
    "\n",
    "\n",
    "rfm[\"Segment\"]=rfm.apply(rfm_segment,axis=1)\n",
    "\n",
    "print(rfm.head())"
   ]
  },
  {
   "cell_type": "markdown",
   "id": "ae734c85-99e2-45af-ae14-7914f4d6539f",
   "metadata": {},
   "source": [
    "### Analyze Segments"
   ]
  },
  {
   "cell_type": "markdown",
   "id": "f698c666-26e8-416e-b1ed-6bed32c331ce",
   "metadata": {},
   "source": [
    "Now that the customers are segmented, we will proceed ahead to analyze each segment to better understand the customer base."
   ]
  },
  {
   "cell_type": "code",
   "execution_count": 27,
   "id": "6a238ff6-fa19-43b4-93d8-cea46e8c8dc7",
   "metadata": {},
   "outputs": [
    {
     "name": "stdout",
     "output_type": "stream",
     "text": [
      "Segment\n",
      "Loyal Customers        1619\n",
      "Normal                 1276\n",
      "Hibernating             821\n",
      "Champions               555\n",
      "Potential Loyalists      67\n",
      "Name: count, dtype: int64\n"
     ]
    }
   ],
   "source": [
    "segment_counts=rfm['Segment'].value_counts()\n",
    "print(segment_counts)"
   ]
  },
  {
   "cell_type": "code",
   "execution_count": 29,
   "id": "ae058652-0172-4d53-980c-b8e282524f2c",
   "metadata": {},
   "outputs": [
    {
     "data": {
      "image/png": "[encoded data removed]",
      "text/plain": [
       "<Figure size 640x480 with 1 Axes>"
      ]
     },
     "metadata": {},
     "output_type": "display_data"
    }
   ],
   "source": [
    "segment_counts.plot(kind=\"bar\",title=\"Customer Segments\")\n",
    "plt.ylabel(\"Number of Customers\")\n",
    "plt.gca().yaxis.set_major_formatter('{x:,.0f}')\n",
    "plt.show()"
   ]
  },
  {
   "cell_type": "markdown",
   "id": "0d4dc307-0665-4fdd-aeab-950a013796d2",
   "metadata": {},
   "source": [
    "The above analysis shows that there are an alarming number of `Hibernating` customers (`821`), who are most likely on the verge of churning. Therefore, such customers should be reactivation campaigns or special promotions to stimulate their buying behaviour and move them into better categories. "
   ]
  },
  {
   "cell_type": "markdown",
   "id": "3dc4a502-ce17-4f7d-b782-d536ea5de2ef",
   "metadata": {},
   "source": [
    "## Prediction of Customer Churn"
   ]
  },
  {
   "cell_type": "markdown",
   "id": "cdf92337-418a-44b3-af54-5b7c67bdf9b0",
   "metadata": {},
   "source": [
    "As per our previous RFM analysis, we can say that the customers who did not make any purchase for more than 180 days can be said to have \"churned\". Therefore, proceeding ahead with our analysis, we now buiild a Machine Learning model for predicting Customer Churn. \n",
    "\n",
    "Moving ahead, we first create our target variable. "
   ]
  },
  {
   "cell_type": "code",
   "execution_count": 30,
   "id": "f661ad07-d1a9-42fd-a410-84c4e1f351fb",
   "metadata": {},
   "outputs": [],
   "source": [
    "from sklearn.model_selection import train_test_split\n",
    "\n",
    "rfm[\"Churned\"]= (rfm[\"Recency\"]>180).astype(int)"
   ]
  },
  {
   "cell_type": "markdown",
   "id": "6e002b0a-2681-4eb6-933c-573c733ba10e",
   "metadata": {},
   "source": [
    "### Feature Selection"
   ]
  },
  {
   "cell_type": "markdown",
   "id": "563968e0-d48c-4bf1-90c8-65107d8b10fe",
   "metadata": {},
   "source": [
    "We can also add new features based on the transactional behavior of customers, such as:\n",
    "\n",
    "* Average Basket Size: Total quantity per transaction.\n",
    "* Monetary per Transaction : Total Monetary value per transaction.\n",
    "* Tenure: How long a customer has been with the company."
   ]
  },
  {
   "cell_type": "code",
   "execution_count": 31,
   "id": "7995fc8e-71e7-4f44-a80d-bc1aa878d2a7",
   "metadata": {},
   "outputs": [
    {
     "data": {
      "text/html": [
       "<div>\n",
       "<style scoped>\n",
       "    .dataframe tbody tr th:only-of-type {\n",
       "        vertical-align: middle;\n",
       "    }\n",
       "\n",
       "    .dataframe tbody tr th {\n",
       "        vertical-align: top;\n",
       "    }\n",
       "\n",
       "    .dataframe thead th {\n",
       "        text-align: right;\n",
       "    }\n",
       "</style>\n",
       "<table border=\"1\" class=\"dataframe\">\n",
       "  <thead>\n",
       "    <tr style=\"text-align: right;\">\n",
       "      <th></th>\n",
       "      <th>Recency</th>\n",
       "      <th>Frequency</th>\n",
       "      <th>Monetary</th>\n",
       "      <th>R_score</th>\n",
       "      <th>F_score</th>\n",
       "      <th>M_score</th>\n",
       "      <th>RFM_score</th>\n",
       "      <th>Segment</th>\n",
       "      <th>Churned</th>\n",
       "      <th>TotalQuantity</th>\n",
       "      <th>AverageBasketSize</th>\n",
       "      <th>MonetaryPerTransaction</th>\n",
       "      <th>Tenure</th>\n",
       "    </tr>\n",
       "    <tr>\n",
       "      <th>CustomerID</th>\n",
       "      <th></th>\n",
       "      <th></th>\n",
       "      <th></th>\n",
       "      <th></th>\n",
       "      <th></th>\n",
       "      <th></th>\n",
       "      <th></th>\n",
       "      <th></th>\n",
       "      <th></th>\n",
       "      <th></th>\n",
       "      <th></th>\n",
       "      <th></th>\n",
       "      <th></th>\n",
       "    </tr>\n",
       "  </thead>\n",
       "  <tbody>\n",
       "    <tr>\n",
       "      <th>12346</th>\n",
       "      <td>326</td>\n",
       "      <td>1</td>\n",
       "      <td>77183.60</td>\n",
       "      <td>1</td>\n",
       "      <td>1</td>\n",
       "      <td>5</td>\n",
       "      <td>115</td>\n",
       "      <td>Normal</td>\n",
       "      <td>1</td>\n",
       "      <td>74215</td>\n",
       "      <td>74215.000000</td>\n",
       "      <td>77183.600000</td>\n",
       "      <td>0</td>\n",
       "    </tr>\n",
       "    <tr>\n",
       "      <th>12347</th>\n",
       "      <td>2</td>\n",
       "      <td>7</td>\n",
       "      <td>4310.00</td>\n",
       "      <td>5</td>\n",
       "      <td>5</td>\n",
       "      <td>5</td>\n",
       "      <td>555</td>\n",
       "      <td>Champions</td>\n",
       "      <td>0</td>\n",
       "      <td>2458</td>\n",
       "      <td>351.142857</td>\n",
       "      <td>615.714286</td>\n",
       "      <td>365</td>\n",
       "    </tr>\n",
       "    <tr>\n",
       "      <th>12348</th>\n",
       "      <td>75</td>\n",
       "      <td>4</td>\n",
       "      <td>1797.24</td>\n",
       "      <td>2</td>\n",
       "      <td>4</td>\n",
       "      <td>4</td>\n",
       "      <td>244</td>\n",
       "      <td>Loyal Customers</td>\n",
       "      <td>0</td>\n",
       "      <td>2341</td>\n",
       "      <td>585.250000</td>\n",
       "      <td>449.310000</td>\n",
       "      <td>282</td>\n",
       "    </tr>\n",
       "    <tr>\n",
       "      <th>12349</th>\n",
       "      <td>19</td>\n",
       "      <td>1</td>\n",
       "      <td>1757.55</td>\n",
       "      <td>4</td>\n",
       "      <td>1</td>\n",
       "      <td>4</td>\n",
       "      <td>414</td>\n",
       "      <td>Normal</td>\n",
       "      <td>0</td>\n",
       "      <td>631</td>\n",
       "      <td>631.000000</td>\n",
       "      <td>1757.550000</td>\n",
       "      <td>0</td>\n",
       "    </tr>\n",
       "    <tr>\n",
       "      <th>12350</th>\n",
       "      <td>310</td>\n",
       "      <td>1</td>\n",
       "      <td>334.40</td>\n",
       "      <td>1</td>\n",
       "      <td>1</td>\n",
       "      <td>2</td>\n",
       "      <td>112</td>\n",
       "      <td>Hibernating</td>\n",
       "      <td>1</td>\n",
       "      <td>197</td>\n",
       "      <td>197.000000</td>\n",
       "      <td>334.400000</td>\n",
       "      <td>0</td>\n",
       "    </tr>\n",
       "  </tbody>\n",
       "</table>\n",
       "</div>"
      ],
      "text/plain": [
       "            Recency  Frequency  Monetary R_score F_score M_score RFM_score  \\\n",
       "CustomerID                                                                   \n",
       "12346           326          1  77183.60       1       1       5       115   \n",
       "12347             2          7   4310.00       5       5       5       555   \n",
       "12348            75          4   1797.24       2       4       4       244   \n",
       "12349            19          1   1757.55       4       1       4       414   \n",
       "12350           310          1    334.40       1       1       2       112   \n",
       "\n",
       "                    Segment  Churned  TotalQuantity  AverageBasketSize  \\\n",
       "CustomerID                                                               \n",
       "12346                Normal        1          74215       74215.000000   \n",
       "12347             Champions        0           2458         351.142857   \n",
       "12348       Loyal Customers        0           2341         585.250000   \n",
       "12349                Normal        0            631         631.000000   \n",
       "12350           Hibernating        1            197         197.000000   \n",
       "\n",
       "            MonetaryPerTransaction  Tenure  \n",
       "CustomerID                                  \n",
       "12346                 77183.600000       0  \n",
       "12347                   615.714286     365  \n",
       "12348                   449.310000     282  \n",
       "12349                  1757.550000       0  \n",
       "12350                   334.400000       0  "
      ]
     },
     "execution_count": 31,
     "metadata": {},
     "output_type": "execute_result"
    }
   ],
   "source": [
    "total_quantity = retail.groupby('CustomerID')['Quantity'].sum().reset_index()\n",
    "total_quantity.columns = ['CustomerID', 'TotalQuantity']\n",
    "\n",
    "rfm = rfm.merge(total_quantity, on='CustomerID', how='left')\n",
    "\n",
    "\n",
    "rfm[\"AverageBasketSize\"]= rfm[\"TotalQuantity\"]/rfm[\"Frequency\"]\n",
    "rfm[\"MonetaryPerTransaction\"]=rfm[\"Monetary\"]/rfm[\"Frequency\"]\n",
    "\n",
    "tenure=retail.groupby(\"CustomerID\")[\"InvoiceDate\"].agg(['min','max']).reset_index()\n",
    "tenure.columns=['CustomerID','FirstPurchaseDate','LastPurchaseDate']\n",
    "tenure['Tenure']=(tenure['LastPurchaseDate']-tenure['FirstPurchaseDate']).dt.days\n",
    "rfm=rfm.merge(tenure[[\"CustomerID\",\"Tenure\"]],on=\"CustomerID\",how=\"left\")\n",
    "rfm.set_index(\"CustomerID\",inplace=True)\n",
    "rfm.head()\n"
   ]
  },
  {
   "cell_type": "markdown",
   "id": "acf38a17-5804-4718-a5a2-0c30fd85a652",
   "metadata": {},
   "source": [
    "### Model Training"
   ]
  },
  {
   "cell_type": "markdown",
   "id": "b9ee1495-21f0-401c-b693-10e2f596b0a9",
   "metadata": {},
   "source": [
    "Now we define features and target for our model"
   ]
  },
  {
   "cell_type": "code",
   "execution_count": 32,
   "id": "dcc93418-6ff6-48fb-a100-2feb4d96ee67",
   "metadata": {},
   "outputs": [],
   "source": [
    "features = ['Recency', 'Frequency', 'Monetary', 'R_score', 'F_score', 'M_score', 'AverageBasketSize', 'MonetaryPerTransaction','Tenure']\n",
    "\n",
    "X=rfm[features]\n",
    "y=rfm[\"Churned\"]"
   ]
  },
  {
   "cell_type": "markdown",
   "id": "fe6a10c9-403f-4f9c-bc8b-643fed406384",
   "metadata": {},
   "source": [
    "To ensure the model generalizes well on unseen data, we will split the dataset into training and testing sets. Typically, we use 80% of the data for training and 20% for testing."
   ]
  },
  {
   "cell_type": "code",
   "execution_count": 33,
   "id": "063539e7-7b27-4a14-a75a-2a4aedca1405",
   "metadata": {},
   "outputs": [
    {
     "name": "stdout",
     "output_type": "stream",
     "text": [
      "(3470, 9) (868, 9)\n"
     ]
    }
   ],
   "source": [
    "X_train, X_test, y_train, y_test = train_test_split(X, y, test_size=0.2, random_state=50)\n",
    "\n",
    "print(X_train.shape, X_test.shape)"
   ]
  },
  {
   "cell_type": "markdown",
   "id": "c0f427bb-7f89-447b-824a-d45397f0d8d3",
   "metadata": {},
   "source": [
    "Now, we’ll use 2 classification models to predict churn. We’ll start with `Logistic Regression` as a baseline and then move on to a more complex model of `Random Forest`. "
   ]
  },
  {
   "cell_type": "markdown",
   "id": "997d5d72-31d0-416f-9f27-bb3fa7a61562",
   "metadata": {},
   "source": [
    "#### Logistic Regression"
   ]
  },
  {
   "cell_type": "code",
   "execution_count": 34,
   "id": "9eea7498-6b1f-4f8f-845b-d0fac58bb1e7",
   "metadata": {},
   "outputs": [],
   "source": [
    "from sklearn.linear_model import LogisticRegression\n",
    "\n",
    "# Logistic Regression model Initialization\n",
    "lr_model = LogisticRegression(max_iter=1000)\n",
    "\n",
    "# Model Training\n",
    "lr_model.fit(X_train, y_train)\n",
    "\n",
    "# Model Prediction\n",
    "y_pred_lr = lr_model.predict(X_test)"
   ]
  },
  {
   "cell_type": "markdown",
   "id": "0274bc43-ba98-42da-9fd6-10c78599c5f6",
   "metadata": {},
   "source": [
    "#### Random Forest Classifier"
   ]
  },
  {
   "cell_type": "markdown",
   "id": "db9c90b8-e4d9-45af-b4b5-0282b41e0160",
   "metadata": {},
   "source": [
    "Random Forest is a robust model that can capture complex relationships between features and the target variable."
   ]
  },
  {
   "cell_type": "code",
   "execution_count": 35,
   "id": "1f4b8fab-3e76-40d7-aab4-2e0ff458395c",
   "metadata": {},
   "outputs": [],
   "source": [
    "from sklearn.ensemble import RandomForestClassifier\n",
    "\n",
    "# Random Forest model Initialization\n",
    "rf_model = RandomForestClassifier(n_estimators=100, random_state=50)\n",
    "\n",
    "# Model Training\n",
    "rf_model.fit(X_train, y_train)\n",
    "\n",
    "# Model Prediction\n",
    "y_pred_rf = rf_model.predict(X_test)"
   ]
  },
  {
   "cell_type": "code",
   "execution_count": 36,
   "id": "4d062f4b-8fd8-4eb3-8f20-20a618410b14",
   "metadata": {},
   "outputs": [
    {
     "name": "stdout",
     "output_type": "stream",
     "text": [
      "Logistic Regression Evaluation:\n",
      "Accuracy: 0.9965437788018433\n",
      "Precision: 1.0\n",
      "Recall: 0.9817073170731707\n",
      "F1 Score: 0.9907692307692307\n",
      "[[704   0]\n",
      " [  3 161]]\n",
      "              precision    recall  f1-score   support\n",
      "\n",
      "           0       1.00      1.00      1.00       704\n",
      "           1       1.00      0.98      0.99       164\n",
      "\n",
      "    accuracy                           1.00       868\n",
      "   macro avg       1.00      0.99      0.99       868\n",
      "weighted avg       1.00      1.00      1.00       868\n",
      "\n"
     ]
    }
   ],
   "source": [
    "from sklearn.metrics import accuracy_score, precision_score, recall_score, f1_score, confusion_matrix, classification_report\n",
    "\n",
    "# Evaluate Logistic Regression\n",
    "print(\"Logistic Regression Evaluation:\")\n",
    "print(f\"Accuracy: {accuracy_score(y_test, y_pred_lr)}\")\n",
    "print(f\"Precision: {precision_score(y_test, y_pred_lr)}\")\n",
    "print(f\"Recall: {recall_score(y_test, y_pred_lr)}\")\n",
    "print(f\"F1 Score: {f1_score(y_test, y_pred_lr)}\")\n",
    "\n",
    "# Confusion matrix and classification report\n",
    "print(confusion_matrix(y_test, y_pred_lr))\n",
    "print(classification_report(y_test, y_pred_lr))"
   ]
  },
  {
   "cell_type": "code",
   "execution_count": 37,
   "id": "49fc3df4-59b9-476e-b0c6-4bb4bc976b2a",
   "metadata": {},
   "outputs": [
    {
     "name": "stdout",
     "output_type": "stream",
     "text": [
      "Random Forest Evaluation:\n",
      "Accuracy: 1.0\n",
      "Precision: 1.0\n",
      "Recall: 1.0\n",
      "F1 Score: 1.0\n",
      "[[704   0]\n",
      " [  0 164]]\n",
      "              precision    recall  f1-score   support\n",
      "\n",
      "           0       1.00      1.00      1.00       704\n",
      "           1       1.00      1.00      1.00       164\n",
      "\n",
      "    accuracy                           1.00       868\n",
      "   macro avg       1.00      1.00      1.00       868\n",
      "weighted avg       1.00      1.00      1.00       868\n",
      "\n"
     ]
    }
   ],
   "source": [
    "# Evaluate Random Forest\n",
    "print(\"Random Forest Evaluation:\")\n",
    "print(f\"Accuracy: {accuracy_score(y_test, y_pred_rf)}\")\n",
    "print(f\"Precision: {precision_score(y_test, y_pred_rf)}\")\n",
    "print(f\"Recall: {recall_score(y_test, y_pred_rf)}\")\n",
    "print(f\"F1 Score: {f1_score(y_test, y_pred_rf)}\")\n",
    "\n",
    "# Confusion matrix and classification report\n",
    "print(confusion_matrix(y_test, y_pred_rf))\n",
    "print(classification_report(y_test, y_pred_rf))"
   ]
  },
  {
   "cell_type": "code",
   "execution_count": 38,
   "id": "c575aac7-522d-423f-992c-5ba6070b67f5",
   "metadata": {},
   "outputs": [
    {
     "data": {
      "image/png": "[encoded data removed]",
      "text/plain": [
       "<Figure size 1000x600 with 1 Axes>"
      ]
     },
     "metadata": {},
     "output_type": "display_data"
    }
   ],
   "source": [
    "# Feature importance\n",
    "\n",
    "import seaborn as sns\n",
    "feature_importance = pd.DataFrame({\n",
    "    'feature': X.columns,\n",
    "    'importance': rf_model.feature_importances_\n",
    "}).sort_values('importance', ascending=False)\n",
    "\n",
    "plt.figure(figsize=(10, 6))\n",
    "sns.barplot(x='importance', y='feature', data=feature_importance)\n",
    "plt.title('Feature Importance')\n",
    "plt.show()"
   ]
  },
  {
   "cell_type": "markdown",
   "id": "cd94f2f7-73f4-437f-bbd5-0b536bca7640",
   "metadata": {},
   "source": [
    "### Interpretation of Results"
   ]
  },
  {
   "cell_type": "markdown",
   "id": "66962f7e-ae10-4431-932c-6383c3980db7",
   "metadata": {},
   "source": [
    "As per the bar plot above, we can see that the features `Recency`, `R_score` and `Tenure` have the most impact on Customer Churn Prediction. \n",
    "\n",
    "The churn prediction models developed in this project demonstrate exceptional accuracy and reliability in identifying customers at risk of churning. This provides the business with a powerful tool for customer retention and long-term value maximization.\n",
    "\n",
    "The near-perfect performance of both models, particularly the Random Forest, suggests that the features selected are highly predictive of churn behavior. This success in modeling indicates a deep understanding of the factors influencing customer decisions to stay or leave.  \n",
    "\n",
    "However, it's crucial to remember that model performance in a controlled environment may differ from real-world applications. Continuous monitoring and refinement will be key to maintaining this high level of predictive performance."
   ]
  }
 ],
 "metadata": {
  "kernelspec": {
   "display_name": "Python 3 (ipykernel)",
   "language": "python",
   "name": "python3"
  },
  "language_info": {
   "codemirror_mode": {
    "name": "ipython",
    "version": 3
   },
   "file_extension": ".py",
   "mimetype": "text/x-python",
   "name": "python",
   "nbconvert_exporter": "python",
   "pygments_lexer": "ipython3",
   "version": "3.12.6"
  }
 },
 "nbformat": 4,
 "nbformat_minor": 5
}
