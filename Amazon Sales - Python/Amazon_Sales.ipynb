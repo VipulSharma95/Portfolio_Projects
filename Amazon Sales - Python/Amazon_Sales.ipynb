{
 "cells": [
  {
   "cell_type": "markdown",
   "id": "8b3be194-7f89-4c53-b919-b7f32b262597",
   "metadata": {},
   "source": [
    "# Amazon Sales Data Analysis"
   ]
  },
  {
   "cell_type": "markdown",
   "id": "04430359-695f-4a44-aa4b-b9b27395289b",
   "metadata": {},
   "source": [
    "## Table of Contents\n",
    "\n",
    "- [Introduction](#Introduction)\n",
    "- [Data Dictionary](#Data-Dictionary)\n",
    "- [Data Import](#Data-Import)\n",
    "- [Data Cleaning and Initial Exploration](#Data-Cleaning-and-Initial-Exploration)\n",
    "- [Exploratory Data Analysis](#Exploratory-Data-Analysis)\n",
    "  - [Category Analysis](#Category-Analysis)\n",
    "  - [Discounted Price Distribution](#Discounted-Price-Distribution)\n",
    "  - [Discount by Category Analysis](#Discount-by-Category-Analysis)\n",
    "  - [Rating Analysis](#Rating-Analysis)\n",
    "  - [Top Selling Products](#Top-Selling-Products)\n",
    "  - [Correlation between Rating and Discount](#Correlation-between-Rating-and-Discount)\n",
    "  - [Price Elasticity](#Price-Elasticity)\n",
    "- [Topic Modelling Analysis](#Topic-Modelling-Analysis)\n",
    "  - [Data Preprocessing and Vectorization](#Data-Preprocessing-and-Vectorization)\n",
    "  - [Topic Modeling with Latent Dirichlet Allocation (LDA)](#Topic-Modeling-with-Latent-Dirichlet-Allocation-LDA)\n",
    "  - [Result Interpretation](#Result-Interpretation)\n",
    "  - [Topic-by-Topic Analysis](#Topic-by-Topic-Analysis)"
   ]
  },
  {
   "cell_type": "markdown",
   "id": "d37ff6b1-b50f-47e0-9b08-fd7858246c80",
   "metadata": {},
   "source": [
    "## Introduction"
   ]
  },
  {
   "cell_type": "markdown",
   "id": "8ddbbcc8-cd11-4a5f-a318-7ab8c900d77f",
   "metadata": {},
   "source": [
    "In today’s fast-paced and highly competitive e-commerce landscape, data plays a pivotal role in driving decision-making, enhancing customer experiences, and optimizing product offerings. Amazon, being one of the largest e-commerce platforms globally, collects vast amounts of data from millions of customers who browse, review, and purchase products on its website. \n",
    "\n",
    "This Amazon Sales Dataset provides a rich and comprehensive snapshot of over 1,000 products, capturing detailed information such as product categories, pricing strategies, customer reviews, ratings, and more.\n",
    "\n",
    "This project leverages the Amazon Sales Dataset to conduct an in-depth analysis of the data, uncovering key insights that can aid in understanding customer preferences, product performance, and the impact of discounts and pricing on sales. \n",
    "\n",
    "The dataset which is used in this project can be found [here](https://www.kaggle.com/datasets/karkavelrajaj/amazon-sales-dataset)."
   ]
  },
  {
   "cell_type": "markdown",
   "id": "4bd60442-7219-4a5c-aaef-e8b608e0b29e",
   "metadata": {},
   "source": [
    "## Data Dictionary"
   ]
  },
  {
   "cell_type": "markdown",
   "id": "268603df-7391-4e72-906b-9d57325c9662",
   "metadata": {},
   "source": [
    "This dataset is having the data of 1000+ Amazon Product's Ratings and Reviews as per their details listed on the official website of Amazon\n",
    "\n",
    "Features\n",
    "\n",
    "* `product_id` - Product ID\n",
    "* `product_name` - Name of the Product\n",
    "* `category` - Category of the Product\n",
    "* `discounted_price` - Discounted Price of the Product\n",
    "* `actual_price` - Actual Price of the Product\n",
    "* `discount_percentage` - Percentage of Discount for the Product\n",
    "* `rating` - Rating of the Product\n",
    "* `rating_count` - Number of people who voted for the Amazon rating\n",
    "* `about_product` - Description about the Product\n",
    "* `user_id` - ID of the user who wrote review for the Product\n",
    "* `user_name` - Name of the user who wrote review for the Product\n",
    "* `review_id` - ID of the user review\n",
    "* `review_title` - Short review\n",
    "* `review_content` - Long review\n",
    "* `img_link` - Image Link of the Product\n",
    "* `product_link` - Official Website Link of the Product"
   ]
  },
  {
   "cell_type": "markdown",
   "id": "c20283ce-f068-4a6f-954f-9adae0c0d88f",
   "metadata": {},
   "source": [
    "## Data Import"
   ]
  },
  {
   "cell_type": "markdown",
   "id": "86060adf-da1d-4372-a477-7e870392f3bf",
   "metadata": {},
   "source": [
    "Here we obtain the required dataset from the file `amazon.csv` by using `pandas.read_csv`"
   ]
  },
  {
   "cell_type": "code",
   "execution_count": 1,
   "id": "0ca8d309-b32c-4fa2-bf2d-1b7461a54a2a",
   "metadata": {},
   "outputs": [],
   "source": [
    "import pandas as pd\n",
    "import numpy as np\n",
    "\n",
    "amzn=pd.read_csv(\"amazon.csv\")"
   ]
  },
  {
   "cell_type": "markdown",
   "id": "2c263d16-4b88-4822-8d8f-e2e6f4af17fc",
   "metadata": {},
   "source": [
    "A brief snapshot of the imported dataset is as follows"
   ]
  },
  {
   "cell_type": "code",
   "execution_count": 2,
   "id": "4c9778b6-c54e-443c-ba1c-0b04c5e5f980",
   "metadata": {},
   "outputs": [
    {
     "name": "stdout",
     "output_type": "stream",
     "text": [
      "   product_id                                       product_name  \\\n",
      "0  B07JW9H4J1  Wayona Nylon Braided USB to Lightning Fast Cha...   \n",
      "1  B098NS6PVG  Ambrane Unbreakable 60W / 3A Fast Charging 1.5...   \n",
      "2  B096MSW6CT  Sounce Fast Phone Charging Cable & Data Sync U...   \n",
      "3  B08HDJ86NZ  boAt Deuce USB 300 2 in 1 Type-C & Micro USB S...   \n",
      "4  B08CF3B7N1  Portronics Konnect L 1.2M Fast Charging 3A 8 P...   \n",
      "\n",
      "                                            category discounted_price  \\\n",
      "0  Computers&Accessories|Accessories&Peripherals|...             ₹399   \n",
      "1  Computers&Accessories|Accessories&Peripherals|...             ₹199   \n",
      "2  Computers&Accessories|Accessories&Peripherals|...             ₹199   \n",
      "3  Computers&Accessories|Accessories&Peripherals|...             ₹329   \n",
      "4  Computers&Accessories|Accessories&Peripherals|...             ₹154   \n",
      "\n",
      "  actual_price discount_percentage rating rating_count  \\\n",
      "0       ₹1,099                 64%    4.2       24,269   \n",
      "1         ₹349                 43%    4.0       43,994   \n",
      "2       ₹1,899                 90%    3.9        7,928   \n",
      "3         ₹699                 53%    4.2       94,363   \n",
      "4         ₹399                 61%    4.2       16,905   \n",
      "\n",
      "                                       about_product  \\\n",
      "0  High Compatibility : Compatible With iPhone 12...   \n",
      "1  Compatible with all Type C enabled devices, be...   \n",
      "2  【 Fast Charger& Data Sync】-With built-in safet...   \n",
      "3  The boAt Deuce USB 300 2 in 1 cable is compati...   \n",
      "4  [CHARGE & SYNC FUNCTION]- This cable comes wit...   \n",
      "\n",
      "                                             user_id  \\\n",
      "0  AG3D6O4STAQKAY2UVGEUV46KN35Q,AHMY5CWJMMK5BJRBB...   \n",
      "1  AECPFYFQVRUWC3KGNLJIOREFP5LQ,AGYYVPDD7YG7FYNBX...   \n",
      "2  AGU3BBQ2V2DDAMOAKGFAWDDQ6QHA,AESFLDV2PT363T2AQ...   \n",
      "3  AEWAZDZZJLQUYVOVGBEUKSLXHQ5A,AG5HTSFRRE6NL3M5S...   \n",
      "4  AE3Q6KSUK5P75D5HFYHCRAOLODSA,AFUGIFH5ZAFXRDSZH...   \n",
      "\n",
      "                                           user_name  \\\n",
      "0  Manav,Adarsh gupta,Sundeep,S.Sayeed Ahmed,jasp...   \n",
      "1  ArdKn,Nirbhay kumar,Sagar Viswanathan,Asp,Plac...   \n",
      "2  Kunal,Himanshu,viswanath,sai niharka,saqib mal...   \n",
      "3  Omkar dhale,JD,HEMALATHA,Ajwadh a.,amar singh ...   \n",
      "4  rahuls6099,Swasat Borah,Ajay Wadke,Pranali,RVK...   \n",
      "\n",
      "                                           review_id  \\\n",
      "0  R3HXWT0LRP0NMF,R2AJM3LFTLZHFO,R6AQJGUP6P86,R1K...   \n",
      "1  RGIQEG07R9HS2,R1SMWZQ86XIN8U,R2J3Y1WL29GWDE,RY...   \n",
      "2  R3J3EQQ9TZI5ZJ,R3E7WBGK7ID0KV,RWU79XKQ6I1QF,R2...   \n",
      "3  R3EEUZKKK9J36I,R3HJVYCLYOY554,REDECAZ7AMPQC,R1...   \n",
      "4  R1BP4L2HH9TFUP,R16PVJEXKV6QZS,R2UPDB81N66T4P,R...   \n",
      "\n",
      "                                        review_title  \\\n",
      "0  Satisfied,Charging is really fast,Value for mo...   \n",
      "1  A Good Braided Cable for Your Type C Device,Go...   \n",
      "2  Good speed for earlier versions,Good Product,W...   \n",
      "3  Good product,Good one,Nice,Really nice product...   \n",
      "4  As good as original,Decent,Good one for second...   \n",
      "\n",
      "                                      review_content  \\\n",
      "0  Looks durable Charging is fine tooNo complains...   \n",
      "1  I ordered this cable to connect my phone to An...   \n",
      "2  Not quite durable and sturdy,https://m.media-a...   \n",
      "3  Good product,long wire,Charges good,Nice,I bou...   \n",
      "4  Bought this instead of original apple, does th...   \n",
      "\n",
      "                                            img_link  \\\n",
      "0  https://m.media-amazon.com/images/W/WEBP_40237...   \n",
      "1  https://m.media-amazon.com/images/W/WEBP_40237...   \n",
      "2  https://m.media-amazon.com/images/W/WEBP_40237...   \n",
      "3  https://m.media-amazon.com/images/I/41V5FtEWPk...   \n",
      "4  https://m.media-amazon.com/images/W/WEBP_40237...   \n",
      "\n",
      "                                        product_link  \n",
      "0  https://www.amazon.in/Wayona-Braided-WN3LG1-Sy...  \n",
      "1  https://www.amazon.in/Ambrane-Unbreakable-Char...  \n",
      "2  https://www.amazon.in/Sounce-iPhone-Charging-C...  \n",
      "3  https://www.amazon.in/Deuce-300-Resistant-Tang...  \n",
      "4  https://www.amazon.in/Portronics-Konnect-POR-1...  \n"
     ]
    }
   ],
   "source": [
    "print(amzn.head())"
   ]
  },
  {
   "cell_type": "markdown",
   "id": "0532f008-dbb0-4b39-8c59-6bc1aeccab15",
   "metadata": {},
   "source": [
    "## Data Cleaning and Initial Exploration"
   ]
  },
  {
   "cell_type": "markdown",
   "id": "1ba33f05-0904-4094-94da-8f783cb298df",
   "metadata": {},
   "source": [
    "For the purposes of our analysis, we will drop the following columns using `pandas.drop()` as these do not serve any purpose to our forthcoming analysis\n",
    "\n",
    "* `img_link`\n",
    "* `product_link`\n",
    "* `user_name`\n",
    "* `review_id`\n",
    "* `about_product`"
   ]
  },
  {
   "cell_type": "code",
   "execution_count": 3,
   "id": "82104a71-7987-4813-b259-3c0b4f346dfc",
   "metadata": {},
   "outputs": [],
   "source": [
    "amzn.drop(columns=[\"img_link\",\"product_link\",\"user_name\",\"review_id\",\"about_product\"],inplace=True)"
   ]
  },
  {
   "cell_type": "code",
   "execution_count": 4,
   "id": "3039d62c-e95d-40c7-9ae5-cbdfedb6b0a8",
   "metadata": {},
   "outputs": [
    {
     "name": "stdout",
     "output_type": "stream",
     "text": [
      "<class 'pandas.core.frame.DataFrame'>\n",
      "RangeIndex: 1465 entries, 0 to 1464\n",
      "Data columns (total 11 columns):\n",
      " #   Column               Non-Null Count  Dtype \n",
      "---  ------               --------------  ----- \n",
      " 0   product_id           1465 non-null   object\n",
      " 1   product_name         1465 non-null   object\n",
      " 2   category             1465 non-null   object\n",
      " 3   discounted_price     1465 non-null   object\n",
      " 4   actual_price         1465 non-null   object\n",
      " 5   discount_percentage  1465 non-null   object\n",
      " 6   rating               1465 non-null   object\n",
      " 7   rating_count         1463 non-null   object\n",
      " 8   user_id              1465 non-null   object\n",
      " 9   review_title         1465 non-null   object\n",
      " 10  review_content       1465 non-null   object\n",
      "dtypes: object(11)\n",
      "memory usage: 126.0+ KB\n"
     ]
    }
   ],
   "source": [
    "amzn.info()"
   ]
  },
  {
   "cell_type": "markdown",
   "id": "147bb8b8-2a2e-49d1-8e5d-586b28b9c45c",
   "metadata": {},
   "source": [
    "Checking for missing values"
   ]
  },
  {
   "cell_type": "code",
   "execution_count": 5,
   "id": "a412cab3-2609-411b-b540-f1d3f438be4f",
   "metadata": {},
   "outputs": [
    {
     "name": "stdout",
     "output_type": "stream",
     "text": [
      "product_id             0\n",
      "product_name           0\n",
      "category               0\n",
      "discounted_price       0\n",
      "actual_price           0\n",
      "discount_percentage    0\n",
      "rating                 0\n",
      "rating_count           2\n",
      "user_id                0\n",
      "review_title           0\n",
      "review_content         0\n",
      "dtype: int64\n"
     ]
    }
   ],
   "source": [
    "print(amzn.isnull().sum())"
   ]
  },
  {
   "cell_type": "markdown",
   "id": "6f1d1b2d-67ff-4b85-9483-9a50cff8a9b8",
   "metadata": {},
   "source": [
    "Upon Initial Exploration of the dataset, we realize that the data types of the numeric columns are invalid, which will prove to be an impediment in our analysis. \n",
    "\n",
    "The provided dataset also has 2 missing values in `rating_count` column. To deal with this, we perform imputation upon this column by replacing `Nan` values with `1`. This is because, if a product is rated (There are no null values in `rating` column), it has atleast one product rating. Therefore, we assume the base of case missing `rating_count` values to be `1` moving ahead. \n",
    "\n",
    "In addition to that, we proceed with the removal of `₹` and `,` symbols from numeric columns which are namely `discounted_price`, `actual_price`, `discount_percentage`, `rating`, `rating_count`. This has to be done inorder to convert the values in these columns to numeric type for the purposes of our forthcoming analysis."
   ]
  },
  {
   "cell_type": "code",
   "execution_count": 6,
   "id": "d17a73ec-1bf2-486b-b0b5-5b1cb5c5b811",
   "metadata": {},
   "outputs": [],
   "source": [
    "amzn[\"discounted_price\"]=amzn[\"discounted_price\"].str.replace('₹','').str.replace(',','').astype(float)\n",
    "amzn[\"actual_price\"]=amzn[\"actual_price\"].str.replace('₹','').str.replace(',','').astype(float)\n",
    "amzn[\"discount_percentage\"]=amzn[\"discount_percentage\"].str.replace('%','').astype(float)"
   ]
  },
  {
   "cell_type": "markdown",
   "id": "9f5bac07-5c04-40e3-b6d4-7dd7f72d2d4a",
   "metadata": {},
   "source": [
    "While cleaning data as described above, we observe that `rating` column contains 1 value which is `|`. This value has to be dealt with for the conversion of the values in this column to numeric type. To deal with this specific value we perform \"Median Imputation\", where we replace this non-numeric value with the median value of `rating` column. "
   ]
  },
  {
   "cell_type": "code",
   "execution_count": 7,
   "id": "7e2b603b-b198-4db0-a4eb-40d50f33ed3f",
   "metadata": {},
   "outputs": [],
   "source": [
    "amzn[\"rating\"]=amzn[\"rating\"].replace('|',np.nan)\n",
    "amzn['rating']=pd.to_numeric(amzn['rating'],errors='coerce')\n",
    "amzn['rating']=amzn['rating'].fillna(amzn['rating'].median())\n",
    "amzn[\"rating_count\"]=amzn[\"rating_count\"].str.replace(',','')"
   ]
  },
  {
   "cell_type": "code",
   "execution_count": 8,
   "id": "c19d5ac4-81bd-4a92-9570-9dec26d7725d",
   "metadata": {},
   "outputs": [],
   "source": [
    "amzn['rating_count'] = amzn['rating_count'].str.replace(',', '').astype(float)\n",
    "amzn[\"rating_count\"]=amzn[\"rating_count\"].fillna(1)"
   ]
  },
  {
   "cell_type": "code",
   "execution_count": 9,
   "id": "808772d0-250b-407a-99fb-b9b1797f1995",
   "metadata": {},
   "outputs": [
    {
     "name": "stdout",
     "output_type": "stream",
     "text": [
      "product_id             0\n",
      "product_name           0\n",
      "category               0\n",
      "discounted_price       0\n",
      "actual_price           0\n",
      "discount_percentage    0\n",
      "rating                 0\n",
      "rating_count           0\n",
      "user_id                0\n",
      "review_title           0\n",
      "review_content         0\n",
      "dtype: int64\n"
     ]
    }
   ],
   "source": [
    "print(amzn.isnull().sum())"
   ]
  },
  {
   "cell_type": "markdown",
   "id": "71c66160-1366-4dee-80b4-51e9aaa3c245",
   "metadata": {},
   "source": [
    "Now, all the columns have non-null values, which makes our data suitable for further analysis. \n",
    "\n",
    "But before we move ahead, we need to remove \"duplicate records\" from our dataset. This is because, the presence of duplicate records can skew our analysis and yield erroneous results, which further results in incorrect implementations and decision making. \n",
    "\n",
    "Therefore, we calculate the number of duplicate records using `df.duplicated().sum()`. "
   ]
  },
  {
   "cell_type": "code",
   "execution_count": 10,
   "id": "672ff8bf-de05-45ff-bcd5-151aa2c3f915",
   "metadata": {},
   "outputs": [
    {
     "data": {
      "text/plain": [
       "np.int64(68)"
      ]
     },
     "execution_count": 10,
     "metadata": {},
     "output_type": "execute_result"
    }
   ],
   "source": [
    "amzn.duplicated().sum()"
   ]
  },
  {
   "cell_type": "markdown",
   "id": "f06869c4-e300-4458-bbba-67e6a0f2f188",
   "metadata": {},
   "source": [
    "Now we drop these 68 records using `df.drop_duplicates`"
   ]
  },
  {
   "cell_type": "code",
   "execution_count": 11,
   "id": "f04eed02-0fe7-42ab-8a08-47081e52f32d",
   "metadata": {},
   "outputs": [],
   "source": [
    "amzn.drop_duplicates(inplace=True)"
   ]
  },
  {
   "cell_type": "code",
   "execution_count": 12,
   "id": "16f5b818-d7d4-4b3a-9844-f78d1b3ef825",
   "metadata": {},
   "outputs": [
    {
     "data": {
      "text/plain": [
       "np.int64(0)"
      ]
     },
     "execution_count": 12,
     "metadata": {},
     "output_type": "execute_result"
    }
   ],
   "source": [
    "amzn.duplicated().sum()"
   ]
  },
  {
   "cell_type": "markdown",
   "id": "edcc27c0-e05c-4f32-9685-684d92365239",
   "metadata": {},
   "source": [
    "## Exploratory Data Analysis"
   ]
  },
  {
   "cell_type": "markdown",
   "id": "b0086cb7-ed77-4d65-a159-8b3f5b6a9326",
   "metadata": {},
   "source": [
    "Exploratory Data Analysis is a crucial step in understanding the patterns, relationships, and trends within our dataset. For the Amazon Sales Dataset, we'll focus on several key areas that can provide valuable insights into product performance, pricing strategies, and customer behavior.\n",
    "\n",
    "Below is the brief snapshot of cleaned data."
   ]
  },
  {
   "cell_type": "code",
   "execution_count": 13,
   "id": "bd16546f-d917-4a88-ad26-801e67ebb983",
   "metadata": {},
   "outputs": [
    {
     "data": {
      "text/html": [
       "<div>\n",
       "<style scoped>\n",
       "    .dataframe tbody tr th:only-of-type {\n",
       "        vertical-align: middle;\n",
       "    }\n",
       "\n",
       "    .dataframe tbody tr th {\n",
       "        vertical-align: top;\n",
       "    }\n",
       "\n",
       "    .dataframe thead th {\n",
       "        text-align: right;\n",
       "    }\n",
       "</style>\n",
       "<table border=\"1\" class=\"dataframe\">\n",
       "  <thead>\n",
       "    <tr style=\"text-align: right;\">\n",
       "      <th></th>\n",
       "      <th>product_id</th>\n",
       "      <th>product_name</th>\n",
       "      <th>category</th>\n",
       "      <th>discounted_price</th>\n",
       "      <th>actual_price</th>\n",
       "      <th>discount_percentage</th>\n",
       "      <th>rating</th>\n",
       "      <th>rating_count</th>\n",
       "      <th>user_id</th>\n",
       "      <th>review_title</th>\n",
       "      <th>review_content</th>\n",
       "    </tr>\n",
       "  </thead>\n",
       "  <tbody>\n",
       "    <tr>\n",
       "      <th>0</th>\n",
       "      <td>B07JW9H4J1</td>\n",
       "      <td>Wayona Nylon Braided USB to Lightning Fast Cha...</td>\n",
       "      <td>Computers&amp;Accessories|Accessories&amp;Peripherals|...</td>\n",
       "      <td>399.0</td>\n",
       "      <td>1099.0</td>\n",
       "      <td>64.0</td>\n",
       "      <td>4.2</td>\n",
       "      <td>24269.0</td>\n",
       "      <td>AG3D6O4STAQKAY2UVGEUV46KN35Q,AHMY5CWJMMK5BJRBB...</td>\n",
       "      <td>Satisfied,Charging is really fast,Value for mo...</td>\n",
       "      <td>Looks durable Charging is fine tooNo complains...</td>\n",
       "    </tr>\n",
       "    <tr>\n",
       "      <th>1</th>\n",
       "      <td>B098NS6PVG</td>\n",
       "      <td>Ambrane Unbreakable 60W / 3A Fast Charging 1.5...</td>\n",
       "      <td>Computers&amp;Accessories|Accessories&amp;Peripherals|...</td>\n",
       "      <td>199.0</td>\n",
       "      <td>349.0</td>\n",
       "      <td>43.0</td>\n",
       "      <td>4.0</td>\n",
       "      <td>43994.0</td>\n",
       "      <td>AECPFYFQVRUWC3KGNLJIOREFP5LQ,AGYYVPDD7YG7FYNBX...</td>\n",
       "      <td>A Good Braided Cable for Your Type C Device,Go...</td>\n",
       "      <td>I ordered this cable to connect my phone to An...</td>\n",
       "    </tr>\n",
       "    <tr>\n",
       "      <th>2</th>\n",
       "      <td>B096MSW6CT</td>\n",
       "      <td>Sounce Fast Phone Charging Cable &amp; Data Sync U...</td>\n",
       "      <td>Computers&amp;Accessories|Accessories&amp;Peripherals|...</td>\n",
       "      <td>199.0</td>\n",
       "      <td>1899.0</td>\n",
       "      <td>90.0</td>\n",
       "      <td>3.9</td>\n",
       "      <td>7928.0</td>\n",
       "      <td>AGU3BBQ2V2DDAMOAKGFAWDDQ6QHA,AESFLDV2PT363T2AQ...</td>\n",
       "      <td>Good speed for earlier versions,Good Product,W...</td>\n",
       "      <td>Not quite durable and sturdy,https://m.media-a...</td>\n",
       "    </tr>\n",
       "    <tr>\n",
       "      <th>3</th>\n",
       "      <td>B08HDJ86NZ</td>\n",
       "      <td>boAt Deuce USB 300 2 in 1 Type-C &amp; Micro USB S...</td>\n",
       "      <td>Computers&amp;Accessories|Accessories&amp;Peripherals|...</td>\n",
       "      <td>329.0</td>\n",
       "      <td>699.0</td>\n",
       "      <td>53.0</td>\n",
       "      <td>4.2</td>\n",
       "      <td>94363.0</td>\n",
       "      <td>AEWAZDZZJLQUYVOVGBEUKSLXHQ5A,AG5HTSFRRE6NL3M5S...</td>\n",
       "      <td>Good product,Good one,Nice,Really nice product...</td>\n",
       "      <td>Good product,long wire,Charges good,Nice,I bou...</td>\n",
       "    </tr>\n",
       "    <tr>\n",
       "      <th>4</th>\n",
       "      <td>B08CF3B7N1</td>\n",
       "      <td>Portronics Konnect L 1.2M Fast Charging 3A 8 P...</td>\n",
       "      <td>Computers&amp;Accessories|Accessories&amp;Peripherals|...</td>\n",
       "      <td>154.0</td>\n",
       "      <td>399.0</td>\n",
       "      <td>61.0</td>\n",
       "      <td>4.2</td>\n",
       "      <td>16905.0</td>\n",
       "      <td>AE3Q6KSUK5P75D5HFYHCRAOLODSA,AFUGIFH5ZAFXRDSZH...</td>\n",
       "      <td>As good as original,Decent,Good one for second...</td>\n",
       "      <td>Bought this instead of original apple, does th...</td>\n",
       "    </tr>\n",
       "  </tbody>\n",
       "</table>\n",
       "</div>"
      ],
      "text/plain": [
       "   product_id                                       product_name  \\\n",
       "0  B07JW9H4J1  Wayona Nylon Braided USB to Lightning Fast Cha...   \n",
       "1  B098NS6PVG  Ambrane Unbreakable 60W / 3A Fast Charging 1.5...   \n",
       "2  B096MSW6CT  Sounce Fast Phone Charging Cable & Data Sync U...   \n",
       "3  B08HDJ86NZ  boAt Deuce USB 300 2 in 1 Type-C & Micro USB S...   \n",
       "4  B08CF3B7N1  Portronics Konnect L 1.2M Fast Charging 3A 8 P...   \n",
       "\n",
       "                                            category  discounted_price  \\\n",
       "0  Computers&Accessories|Accessories&Peripherals|...             399.0   \n",
       "1  Computers&Accessories|Accessories&Peripherals|...             199.0   \n",
       "2  Computers&Accessories|Accessories&Peripherals|...             199.0   \n",
       "3  Computers&Accessories|Accessories&Peripherals|...             329.0   \n",
       "4  Computers&Accessories|Accessories&Peripherals|...             154.0   \n",
       "\n",
       "   actual_price  discount_percentage  rating  rating_count  \\\n",
       "0        1099.0                 64.0     4.2       24269.0   \n",
       "1         349.0                 43.0     4.0       43994.0   \n",
       "2        1899.0                 90.0     3.9        7928.0   \n",
       "3         699.0                 53.0     4.2       94363.0   \n",
       "4         399.0                 61.0     4.2       16905.0   \n",
       "\n",
       "                                             user_id  \\\n",
       "0  AG3D6O4STAQKAY2UVGEUV46KN35Q,AHMY5CWJMMK5BJRBB...   \n",
       "1  AECPFYFQVRUWC3KGNLJIOREFP5LQ,AGYYVPDD7YG7FYNBX...   \n",
       "2  AGU3BBQ2V2DDAMOAKGFAWDDQ6QHA,AESFLDV2PT363T2AQ...   \n",
       "3  AEWAZDZZJLQUYVOVGBEUKSLXHQ5A,AG5HTSFRRE6NL3M5S...   \n",
       "4  AE3Q6KSUK5P75D5HFYHCRAOLODSA,AFUGIFH5ZAFXRDSZH...   \n",
       "\n",
       "                                        review_title  \\\n",
       "0  Satisfied,Charging is really fast,Value for mo...   \n",
       "1  A Good Braided Cable for Your Type C Device,Go...   \n",
       "2  Good speed for earlier versions,Good Product,W...   \n",
       "3  Good product,Good one,Nice,Really nice product...   \n",
       "4  As good as original,Decent,Good one for second...   \n",
       "\n",
       "                                      review_content  \n",
       "0  Looks durable Charging is fine tooNo complains...  \n",
       "1  I ordered this cable to connect my phone to An...  \n",
       "2  Not quite durable and sturdy,https://m.media-a...  \n",
       "3  Good product,long wire,Charges good,Nice,I bou...  \n",
       "4  Bought this instead of original apple, does th...  "
      ]
     },
     "execution_count": 13,
     "metadata": {},
     "output_type": "execute_result"
    }
   ],
   "source": [
    "amzn.head()"
   ]
  },
  {
   "cell_type": "markdown",
   "id": "ea141b2d-6955-4f4f-b712-3b3b90014eaf",
   "metadata": {},
   "source": [
    "### Category Analysis"
   ]
  },
  {
   "cell_type": "markdown",
   "id": "b440942c-132e-4f32-b7c7-fb1d35f13a1f",
   "metadata": {},
   "source": [
    "- **Objective**: Understand the distribution of products across different categories.\n",
    "- **Visualization**: Bar chart of product counts by category."
   ]
  },
  {
   "cell_type": "code",
   "execution_count": 14,
   "id": "0c4d2871-2f25-4143-8753-e88aa399fc50",
   "metadata": {},
   "outputs": [
    {
     "name": "stdout",
     "output_type": "stream",
     "text": [
      "category\n",
      "Electronics                514\n",
      "Home & Kitchen             448\n",
      "Computers & Accessories    397\n",
      "OfficeProducts              31\n",
      "MusicalInstruments           2\n",
      "HomeImprovement              2\n",
      "Toys & Games                 1\n",
      "Car & Motorbike              1\n",
      "Health & PersonalCare        1\n",
      "Name: count, dtype: int64\n"
     ]
    },
    {
     "data": {
      "image/png": "[encoded data removed]",
      "text/plain": [
       "<Figure size 1200x600 with 1 Axes>"
      ]
     },
     "metadata": {},
     "output_type": "display_data"
    }
   ],
   "source": [
    "import matplotlib.pyplot as plt\n",
    "\n",
    "category_counts=amzn[\"category\"].str.split(\"|\",expand=True)\n",
    "category_counts.rename(columns={0:'category'},inplace=True)\n",
    "category_counts=category_counts[\"category\"].str.replace(\"&\",\" & \")\n",
    "amzn.drop(columns=[\"category\"])\n",
    "amzn[\"category\"]=category_counts\n",
    "\n",
    "category_vals=category_counts.value_counts()\n",
    "print(category_vals)\n",
    "plt.figure(figsize=(12,6))\n",
    "category_vals.plot(kind=\"bar\")\n",
    "plt.title(\"Product Categories\")\n",
    "plt.xlabel(\"Category\")\n",
    "plt.ylabel(\"Count\")\n",
    "plt.xticks(rotation=45)\n",
    "plt.show()\n"
   ]
  },
  {
   "cell_type": "markdown",
   "id": "0d2aa550-789f-4ff2-915e-05b15e450be1",
   "metadata": {},
   "source": [
    "#### Analysis"
   ]
  },
  {
   "cell_type": "markdown",
   "id": "993515d5-c9de-4fe4-ac6c-3a60c1ff733f",
   "metadata": {},
   "source": [
    "From the above Bar plot it can been seen that most common product category is `Electronics` with `514` products, whereas the least common product categories are `Toys & Games`, `Car & Motorbike` and `Health & PersonalCare` with `1` product in each of them.\n",
    "\n",
    "Therefore, if a business has a product-line pertaining to either of these categories, then it can look forward to increase its sales and revenue by making their product-line offering available on Amazon.in"
   ]
  },
  {
   "cell_type": "markdown",
   "id": "c60ed5db-1c01-4037-8101-34d3449ad4c4",
   "metadata": {},
   "source": [
    "### Discounted Price Distribution"
   ]
  },
  {
   "cell_type": "markdown",
   "id": "00b20a63-6e78-4afd-814e-3837ac2e3896",
   "metadata": {},
   "source": [
    "* **Objective**: Analyze the frequency of discounted products across the entire price range.\n",
    "* **Visualizations**: Histogram of discounted prices"
   ]
  },
  {
   "cell_type": "code",
   "execution_count": 15,
   "id": "70ff2f07-7e9e-4c5d-bb38-c9bfa60f8d12",
   "metadata": {},
   "outputs": [
    {
     "data": {
      "image/png": "[encoded data removed]",
      "text/plain": [
       "<Figure size 1000x600 with 1 Axes>"
      ]
     },
     "metadata": {},
     "output_type": "display_data"
    }
   ],
   "source": [
    "import seaborn as sns\n",
    "#price distribution\n",
    "plt.figure(figsize=(10,6))\n",
    "sns.histplot(amzn[\"discounted_price\"],bins=25,kde=True)\n",
    "plt.title(\"Distribution of Discounted Prices\")\n",
    "plt.xlabel(\"Price\")\n",
    "plt.ylabel(\"Frequency\")\n",
    "plt.show()"
   ]
  },
  {
   "cell_type": "markdown",
   "id": "ca2b0c71-2022-4b8a-895f-782a5da69f60",
   "metadata": {},
   "source": [
    "#### Analysis"
   ]
  },
  {
   "cell_type": "markdown",
   "id": "cb696b0b-14ba-4e35-a7dd-8d33d6d6f228",
   "metadata": {},
   "source": [
    "From the above histogram it can been seen that most of the products with discounted prices occur at a lower price of INR 4000 or less. As we move higher in the price range, the number of products with discounted prices experiences a decline. Hence, it can be said that discounts are highly\n",
    "\n",
    "This happens because the products at lower price range cater to a mass-market segment. Therefore, various discounts are offered on these products to make them lucrative for customers and stimulate their buying behaviour. "
   ]
  },
  {
   "cell_type": "markdown",
   "id": "1f7aa153-bf43-4cf8-ab73-8eb98df8160d",
   "metadata": {},
   "source": [
    "### Discount by Category Analysis"
   ]
  },
  {
   "cell_type": "markdown",
   "id": "8b6f18e8-dfc4-4256-ab58-4e2eda32ed27",
   "metadata": {},
   "source": [
    "* **Objective**: Understand the pattern of discount percentages across product categories.\n",
    "* **Visualizations** - Bar chart of average discount percentage by category"
   ]
  },
  {
   "cell_type": "code",
   "execution_count": 25,
   "id": "557c3004-52ad-42df-a18d-aae4344f30a2",
   "metadata": {},
   "outputs": [
    {
     "name": "stdout",
     "output_type": "stream",
     "text": [
      "category\n",
      "HomeImprovement            57.500000\n",
      "Computers & Accessories    53.763224\n",
      "Health & PersonalCare      53.000000\n",
      "Electronics                50.634241\n",
      "MusicalInstruments         46.000000\n",
      "Car & Motorbike            42.000000\n",
      "Home & Kitchen             40.120536\n",
      "OfficeProducts             12.354839\n",
      "Toys & Games                0.000000\n",
      "Name: discount_percentage, dtype: float64\n"
     ]
    },
    {
     "data": {
      "image/png": "[encoded data removed]",
      "text/plain": [
       "<Figure size 1200x600 with 1 Axes>"
      ]
     },
     "metadata": {},
     "output_type": "display_data"
    }
   ],
   "source": [
    "plt.figure(figsize=(12, 6))\n",
    "amzn.groupby('category')['discount_percentage'].mean().sort_values(ascending=False).plot(kind='bar')\n",
    "print(amzn.groupby('category')['discount_percentage'].mean().sort_values(ascending=False))\n",
    "plt.title('Average Discount Percentage by Category')\n",
    "plt.xlabel('Category')\n",
    "plt.ylabel('Average Discount Percentage')\n",
    "plt.xticks(rotation=45, ha='right')\n",
    "plt.gca().yaxis.set_major_formatter('{x:,.2f}%')\n",
    "plt.show()"
   ]
  },
  {
   "cell_type": "markdown",
   "id": "3b563d34-a1ce-447c-a697-a3ea48acfb50",
   "metadata": {},
   "source": [
    "#### Analysis"
   ]
  },
  {
   "cell_type": "markdown",
   "id": "6979c0bc-58ba-4f38-b834-7c45b0f12bb0",
   "metadata": {},
   "source": [
    "From the above Bar plot, it can be seen that `Home Improvement` category has the highest average discount percentage of `57.5%` amongst all categories, which are closely followed by `Computers & Accessories (53.76%)` , `Health & Personal Care (53%)` and `Electronics (50.63%)`. \n",
    "\n",
    "The above findings signify that these category markets are highly competitive because of which companies offer lucrative discounts.It can also be inferred that these product categories are high margin because of which companies are able to offer high discounts to their customers.  "
   ]
  },
  {
   "cell_type": "markdown",
   "id": "ea06d776-0cc9-47df-886c-4674557a2f0b",
   "metadata": {},
   "source": [
    "### Rating Analysis"
   ]
  },
  {
   "cell_type": "markdown",
   "id": "d805e5b1-31e2-4eae-bea9-f43191041b07",
   "metadata": {},
   "source": [
    "* Objective: Examine product ratings and their distribution.\n",
    "* Visualizations:\n",
    "  * Histogram of product ratings\n",
    "  * Box plot of ratings by category"
   ]
  },
  {
   "cell_type": "code",
   "execution_count": 17,
   "id": "f45296f1-b7dd-4147-9b16-c9ee1a3fcb13",
   "metadata": {},
   "outputs": [
    {
     "data": {
      "image/png": "[encoded data removed]",
      "text/plain": [
       "<Figure size 1000x600 with 1 Axes>"
      ]
     },
     "metadata": {},
     "output_type": "display_data"
    },
    {
     "data": {
      "image/png": "[encoded data removed]",
      "text/plain": [
       "<Figure size 1200x600 with 1 Axes>"
      ]
     },
     "metadata": {},
     "output_type": "display_data"
    }
   ],
   "source": [
    "plt.figure(figsize=(10, 6))\n",
    "sns.histplot(amzn['rating'], bins=20, kde=True)\n",
    "plt.title('Distribution of Product Ratings')\n",
    "plt.xlabel('Rating')\n",
    "plt.ylabel('Frequency')\n",
    "plt.show()\n",
    "\n",
    "plt.figure(figsize=(12, 6))\n",
    "sns.boxplot(x='category', y='rating', data=amzn)\n",
    "plt.title('Ratings by Category')\n",
    "plt.xlabel('Category')\n",
    "plt.ylabel('Rating')\n",
    "plt.xticks(rotation=45, ha='right')\n",
    "plt.tight_layout()\n",
    "plt.show()"
   ]
  },
  {
   "cell_type": "markdown",
   "id": "c436a688-fa64-4388-a615-e0a9f0489a09",
   "metadata": {},
   "source": [
    "#### Analysis"
   ]
  },
  {
   "cell_type": "markdown",
   "id": "f898148a-7255-47a1-916d-8764ac9108bb",
   "metadata": {},
   "source": [
    "In the histogram plot, it can be seen that most of the products (400+) in our dataset have a rating between 4.1 and 4.2. This exhibits that most of the product listings on Amazon are perceived to be of high quality and are highly regarded by customers. \n",
    "\n",
    "From the Scatter and Box plot, it can be seen that the categories such as `Computers & Accessories`, `Electronics` and `Home & Kitchen` have a wide spread of ratings, with many reviews being outlier values in these categories. \n",
    "\n",
    "Amongst these categories, the `Home & Kitchen` category shows the highest variation in the values of ratings. This would be because of the availability of products belonging to a wide spectrum of quality level.  "
   ]
  },
  {
   "cell_type": "markdown",
   "id": "b4b46145-0822-4b5d-ab39-16ab8abe9098",
   "metadata": {},
   "source": [
    "### Top Selling Products"
   ]
  },
  {
   "cell_type": "markdown",
   "id": "70de028b-417f-4ed0-8f72-051c7b970650",
   "metadata": {},
   "source": [
    "**Objective**: Identify the best-selling products based on rating count."
   ]
  },
  {
   "cell_type": "code",
   "execution_count": 18,
   "id": "efde122a-5a47-493a-9d33-b5fc54809118",
   "metadata": {},
   "outputs": [
    {
     "name": "stdout",
     "output_type": "stream",
     "text": [
      "Top 10 Best Selling Products\n",
      "product_name\n",
      "AmazonBasics Flexible Premium HDMI Cable (Black, 4K@60Hz, 18Gbps), 3-Foot                                                                  853945\n",
      "Amazon Basics High-Speed HDMI Cable, 6 Feet - Supports Ethernet, 3D, 4K video,Black                                                        426973\n",
      "Amazon Basics High-Speed HDMI Cable, 6 Feet (2-Pack),Black                                                                                 426973\n",
      "JBL C100SI Wired In Ear Headphones with Mic, JBL Pure Bass Sound, One Button Multi-function Remote, Angled Buds for Comfort fit (Black)    385177\n",
      "boAt Bassheads 100 in Ear Wired Earphones with Mic(Furious Red)                                                                            363713\n",
      "boAt Bassheads 100 in Ear Wired Earphones with Mic(Taffy Pink)                                                                             363713\n",
      "boAt BassHeads 100 in-Ear Wired Headphones with Mic (Black)                                                                                363711\n",
      "Redmi 9A Sport (Coral Green, 2GB RAM, 32GB Storage) | 2GHz Octa-core Helio G25 Processor | 5000 mAh Battery                                313836\n",
      "Redmi 9 Activ (Carbon Black, 4GB RAM, 64GB Storage) | Octa-core Helio G35 | 5000 mAh Battery                                               313836\n",
      "Redmi 9A Sport (Coral Green, 3GB RAM, 32GB Storage) | 2GHz Octa-core Helio G25 Processor | 5000 mAh Battery                                313832\n",
      "Name: rating_count, dtype: int64\n"
     ]
    }
   ],
   "source": [
    "top_products=amzn.groupby(\"product_name\")['rating_count'].sum().sort_values(ascending=False).head(10).astype(int)\n",
    "print(\"Top 10 Best Selling Products\")\n",
    "print(top_products)"
   ]
  },
  {
   "cell_type": "markdown",
   "id": "aa25bf83-7e45-4c9c-8676-68dbd93e0900",
   "metadata": {},
   "source": [
    "Above are the Top 10 Best Selling Products on the basis of the given dataset as obtained from Amazon.in. The Top 10 most popular products belong to `Electronics` and `Computer & Accessories` categories. \n",
    "\n",
    "The high number of sales for these products can be attributed to the high-quality and cutting-edge technology of these product categories. Products in these categories also belong to a fast paced market as the technology is always evolving, resulting in the faster rollouts of newer versions of these products."
   ]
  },
  {
   "cell_type": "markdown",
   "id": "432a42ca-3f75-4252-830e-fd84a6e78d3d",
   "metadata": {},
   "source": [
    "### Correlation Between Rating and Discount"
   ]
  },
  {
   "cell_type": "markdown",
   "id": "3939f262-6e32-46f1-9c87-65a888451951",
   "metadata": {},
   "source": [
    "**Objective**: Understand the relationship between product ratings and discount percentages."
   ]
  },
  {
   "cell_type": "code",
   "execution_count": 19,
   "id": "6d172858-4b0d-4b64-ab65-0a7809509f8c",
   "metadata": {},
   "outputs": [
    {
     "name": "stdout",
     "output_type": "stream",
     "text": [
      "\n",
      "Correlation between Rating and Discount Percentage: -0.15995020871000934\n"
     ]
    }
   ],
   "source": [
    "# Correlation between rating and discount\n",
    "correlation = amzn['rating'].corr(amzn['discount_percentage'])\n",
    "print(f\"\\nCorrelation between Rating and Discount Percentage: {correlation}\")"
   ]
  },
  {
   "cell_type": "markdown",
   "id": "960a0f03-ffe7-46a5-9959-067ab3dfa65e",
   "metadata": {},
   "source": [
    "#### Analysis"
   ]
  },
  {
   "cell_type": "markdown",
   "id": "e2ddb1de-ceaf-4560-b4fc-0d1f90b021d3",
   "metadata": {},
   "source": [
    "Overall, there is a weak negative correlation (-16%) between Rating of the products and discount percentages offered. The weak negative correlation may imply that there might be a slight indication of Higher Ratings associated with Lower Discount Percentages and vice-versa."
   ]
  },
  {
   "cell_type": "markdown",
   "id": "6bd650c9-5d32-473c-9064-2ea055d494be",
   "metadata": {},
   "source": [
    "### Price Elasticity"
   ]
  },
  {
   "cell_type": "markdown",
   "id": "9c5fbca3-a3e7-4a34-afc1-0eaf429b24d7",
   "metadata": {},
   "source": [
    "**Objective**: Estimate price elasticity to understand how changes in price affect demand (Product Rating)"
   ]
  },
  {
   "cell_type": "code",
   "execution_count": 20,
   "id": "52c7d703-dff3-476f-90ad-eaa6e2bf7060",
   "metadata": {},
   "outputs": [
    {
     "name": "stdout",
     "output_type": "stream",
     "text": [
      "\n",
      "Average Price Elasticity by Category:\n",
      "category\n",
      "MusicalInstruments        -10.608206\n",
      "Electronics                -4.608921\n",
      "Home & Kitchen             -4.564452\n",
      "Computers & Accessories    -0.527759\n",
      "Toys & Games                0.845494\n",
      "OfficeProducts              4.723124\n",
      "HomeImprovement             4.918129\n",
      "Health & PersonalCare       6.338355\n",
      "Car & Motorbike            19.349663\n",
      "Name: price_elasticity, dtype: float64\n"
     ]
    }
   ],
   "source": [
    "# Price elasticity (simplified)\n",
    "amzn['price_elasticity'] = (amzn['rating_count'] - amzn['rating_count'].mean()) / (amzn['discounted_price'] - amzn['discounted_price'].mean())\n",
    "avg_elasticity_by_category = amzn.groupby('category')['price_elasticity'].mean().sort_values(ascending=True)\n",
    "print(\"\\nAverage Price Elasticity by Category:\")\n",
    "print(avg_elasticity_by_category)\n",
    "\n",
    "amzn_new=amzn.copy()"
   ]
  },
  {
   "cell_type": "markdown",
   "id": "c65fc4d2-b10c-4b10-9fe2-6f44a0c06e3b",
   "metadata": {},
   "source": [
    "#### Analysis"
   ]
  },
  {
   "cell_type": "markdown",
   "id": "5f823983-d6a3-4bb2-b55a-c76e9a8d71f6",
   "metadata": {},
   "source": [
    "From the above results, it can be inferred that as the price for each category increases, the demand for products in categories such `Musical Instruments`, `Electronics` and `Home & Kitchen` decline. On the contrary it increases for categories such as `Office Products`, `Home Improvement`, `Health & Personal Care` and `Car & Motorbike`.\n",
    "\n",
    "While, the negative price elasticity is understood, the positive price elasticity can be attributed to higher quality of products at higher price points, which stimulates customer to move towards higher price range even if it means an increase in the price."
   ]
  },
  {
   "cell_type": "markdown",
   "id": "14cc2c0d-df30-438e-a312-ca21ab492d3a",
   "metadata": {},
   "source": [
    "## Topic Modelling Analysis"
   ]
  },
  {
   "cell_type": "markdown",
   "id": "84511074-6b37-4d7c-8bc2-87a6a7aa816a",
   "metadata": {},
   "source": [
    "### Data Preprocessing and Vectorization "
   ]
  },
  {
   "cell_type": "markdown",
   "id": "c0771ea7-4bd5-4d7d-a1d8-f698b459c7f1",
   "metadata": {},
   "source": [
    "Before proceeding to the Topic Modelling Analysis, we will do slight preparation by removing commas (',') from columns pertaining to reviews and then we would combine the `review_title` and `review_content` columns into `full_review` column.\n",
    "\n",
    "We then use TF-IDF (Term Frequency-Inverse Document Frequency) vectorization to convert the text data into numerical format. This method:\n",
    "* Emphasizes important words by giving higher weights to terms that are frequent in a particular review but rare across all reviews.\n",
    "* Reduces the impact of common words that don't carry much meaning.\n",
    "* Limits the vocabulary to the 1000 most significant terms, balancing between capturing important information and reducing computational complexity."
   ]
  },
  {
   "cell_type": "code",
   "execution_count": 21,
   "id": "d465c910-e0c7-428f-9ed9-da976c087f6e",
   "metadata": {},
   "outputs": [
    {
     "data": {
      "text/html": [
       "<div>\n",
       "<style scoped>\n",
       "    .dataframe tbody tr th:only-of-type {\n",
       "        vertical-align: middle;\n",
       "    }\n",
       "\n",
       "    .dataframe tbody tr th {\n",
       "        vertical-align: top;\n",
       "    }\n",
       "\n",
       "    .dataframe thead th {\n",
       "        text-align: right;\n",
       "    }\n",
       "</style>\n",
       "<table border=\"1\" class=\"dataframe\">\n",
       "  <thead>\n",
       "    <tr style=\"text-align: right;\">\n",
       "      <th></th>\n",
       "      <th>product_id</th>\n",
       "      <th>product_name</th>\n",
       "      <th>category</th>\n",
       "      <th>discounted_price</th>\n",
       "      <th>actual_price</th>\n",
       "      <th>discount_percentage</th>\n",
       "      <th>rating</th>\n",
       "      <th>rating_count</th>\n",
       "      <th>user_id</th>\n",
       "      <th>review_title</th>\n",
       "      <th>review_content</th>\n",
       "      <th>price_elasticity</th>\n",
       "      <th>full_review</th>\n",
       "    </tr>\n",
       "  </thead>\n",
       "  <tbody>\n",
       "    <tr>\n",
       "      <th>0</th>\n",
       "      <td>B07JW9H4J1</td>\n",
       "      <td>Wayona Nylon Braided USB to Lightning Fast Cha...</td>\n",
       "      <td>Computers &amp; Accessories</td>\n",
       "      <td>399.0</td>\n",
       "      <td>1099.0</td>\n",
       "      <td>64.0</td>\n",
       "      <td>4.2</td>\n",
       "      <td>24269.0</td>\n",
       "      <td>AG3D6O4STAQKAY2UVGEUV46KN35Q AHMY5CWJMMK5BJRBB...</td>\n",
       "      <td>Satisfied Charging is really fast Value for mo...</td>\n",
       "      <td>Looks durable Charging is fine tooNo complains...</td>\n",
       "      <td>-2.041792</td>\n",
       "      <td>Satisfied Charging is really fast Value for mo...</td>\n",
       "    </tr>\n",
       "    <tr>\n",
       "      <th>1</th>\n",
       "      <td>B098NS6PVG</td>\n",
       "      <td>Ambrane Unbreakable 60W / 3A Fast Charging 1.5...</td>\n",
       "      <td>Computers &amp; Accessories</td>\n",
       "      <td>199.0</td>\n",
       "      <td>349.0</td>\n",
       "      <td>43.0</td>\n",
       "      <td>4.0</td>\n",
       "      <td>43994.0</td>\n",
       "      <td>AECPFYFQVRUWC3KGNLJIOREFP5LQ AGYYVPDD7YG7FYNBX...</td>\n",
       "      <td>A Good Braided Cable for Your Type C Device Go...</td>\n",
       "      <td>I ordered this cable to connect my phone to An...</td>\n",
       "      <td>-8.402052</td>\n",
       "      <td>A Good Braided Cable for Your Type C Device Go...</td>\n",
       "    </tr>\n",
       "    <tr>\n",
       "      <th>2</th>\n",
       "      <td>B096MSW6CT</td>\n",
       "      <td>Sounce Fast Phone Charging Cable &amp; Data Sync U...</td>\n",
       "      <td>Computers &amp; Accessories</td>\n",
       "      <td>199.0</td>\n",
       "      <td>1899.0</td>\n",
       "      <td>90.0</td>\n",
       "      <td>3.9</td>\n",
       "      <td>7928.0</td>\n",
       "      <td>AGU3BBQ2V2DDAMOAKGFAWDDQ6QHA AESFLDV2PT363T2AQ...</td>\n",
       "      <td>Good speed for earlier versions Good Product W...</td>\n",
       "      <td>Not quite durable and sturdy https://m.media-a...</td>\n",
       "      <td>3.473156</td>\n",
       "      <td>Good speed for earlier versions Good Product W...</td>\n",
       "    </tr>\n",
       "    <tr>\n",
       "      <th>3</th>\n",
       "      <td>B08HDJ86NZ</td>\n",
       "      <td>boAt Deuce USB 300 2 in 1 Type-C &amp; Micro USB S...</td>\n",
       "      <td>Computers &amp; Accessories</td>\n",
       "      <td>329.0</td>\n",
       "      <td>699.0</td>\n",
       "      <td>53.0</td>\n",
       "      <td>4.2</td>\n",
       "      <td>94363.0</td>\n",
       "      <td>AEWAZDZZJLQUYVOVGBEUKSLXHQ5A AG5HTSFRRE6NL3M5S...</td>\n",
       "      <td>Good product Good one Nice Really nice product...</td>\n",
       "      <td>Good product long wire Charges good Nice I bou...</td>\n",
       "      <td>-26.104077</td>\n",
       "      <td>Good product Good one Nice Really nice product...</td>\n",
       "    </tr>\n",
       "    <tr>\n",
       "      <th>4</th>\n",
       "      <td>B08CF3B7N1</td>\n",
       "      <td>Portronics Konnect L 1.2M Fast Charging 3A 8 P...</td>\n",
       "      <td>Computers &amp; Accessories</td>\n",
       "      <td>154.0</td>\n",
       "      <td>399.0</td>\n",
       "      <td>61.0</td>\n",
       "      <td>4.2</td>\n",
       "      <td>16905.0</td>\n",
       "      <td>AE3Q6KSUK5P75D5HFYHCRAOLODSA AFUGIFH5ZAFXRDSZH...</td>\n",
       "      <td>As good as original Decent Good one for second...</td>\n",
       "      <td>Bought this instead of original apple  does th...</td>\n",
       "      <td>0.509806</td>\n",
       "      <td>As good as original Decent Good one for second...</td>\n",
       "    </tr>\n",
       "  </tbody>\n",
       "</table>\n",
       "</div>"
      ],
      "text/plain": [
       "   product_id                                       product_name  \\\n",
       "0  B07JW9H4J1  Wayona Nylon Braided USB to Lightning Fast Cha...   \n",
       "1  B098NS6PVG  Ambrane Unbreakable 60W / 3A Fast Charging 1.5...   \n",
       "2  B096MSW6CT  Sounce Fast Phone Charging Cable & Data Sync U...   \n",
       "3  B08HDJ86NZ  boAt Deuce USB 300 2 in 1 Type-C & Micro USB S...   \n",
       "4  B08CF3B7N1  Portronics Konnect L 1.2M Fast Charging 3A 8 P...   \n",
       "\n",
       "                  category  discounted_price  actual_price  \\\n",
       "0  Computers & Accessories             399.0        1099.0   \n",
       "1  Computers & Accessories             199.0         349.0   \n",
       "2  Computers & Accessories             199.0        1899.0   \n",
       "3  Computers & Accessories             329.0         699.0   \n",
       "4  Computers & Accessories             154.0         399.0   \n",
       "\n",
       "   discount_percentage  rating  rating_count  \\\n",
       "0                 64.0     4.2       24269.0   \n",
       "1                 43.0     4.0       43994.0   \n",
       "2                 90.0     3.9        7928.0   \n",
       "3                 53.0     4.2       94363.0   \n",
       "4                 61.0     4.2       16905.0   \n",
       "\n",
       "                                             user_id  \\\n",
       "0  AG3D6O4STAQKAY2UVGEUV46KN35Q AHMY5CWJMMK5BJRBB...   \n",
       "1  AECPFYFQVRUWC3KGNLJIOREFP5LQ AGYYVPDD7YG7FYNBX...   \n",
       "2  AGU3BBQ2V2DDAMOAKGFAWDDQ6QHA AESFLDV2PT363T2AQ...   \n",
       "3  AEWAZDZZJLQUYVOVGBEUKSLXHQ5A AG5HTSFRRE6NL3M5S...   \n",
       "4  AE3Q6KSUK5P75D5HFYHCRAOLODSA AFUGIFH5ZAFXRDSZH...   \n",
       "\n",
       "                                        review_title  \\\n",
       "0  Satisfied Charging is really fast Value for mo...   \n",
       "1  A Good Braided Cable for Your Type C Device Go...   \n",
       "2  Good speed for earlier versions Good Product W...   \n",
       "3  Good product Good one Nice Really nice product...   \n",
       "4  As good as original Decent Good one for second...   \n",
       "\n",
       "                                      review_content  price_elasticity  \\\n",
       "0  Looks durable Charging is fine tooNo complains...         -2.041792   \n",
       "1  I ordered this cable to connect my phone to An...         -8.402052   \n",
       "2  Not quite durable and sturdy https://m.media-a...          3.473156   \n",
       "3  Good product long wire Charges good Nice I bou...        -26.104077   \n",
       "4  Bought this instead of original apple  does th...          0.509806   \n",
       "\n",
       "                                         full_review  \n",
       "0  Satisfied Charging is really fast Value for mo...  \n",
       "1  A Good Braided Cable for Your Type C Device Go...  \n",
       "2  Good speed for earlier versions Good Product W...  \n",
       "3  Good product Good one Nice Really nice product...  \n",
       "4  As good as original Decent Good one for second...  "
      ]
     },
     "execution_count": 21,
     "metadata": {},
     "output_type": "execute_result"
    }
   ],
   "source": [
    "amzn['user_id']=amzn['user_id'].str.replace(\",\",\" \")\n",
    "amzn['review_title']=amzn['review_title'].str.replace(\",\",\" \")\n",
    "amzn['review_content']=amzn['review_content'].str.replace(\",\",\" \")\n",
    "\n",
    "from sklearn.feature_extraction.text import TfidfVectorizer\n",
    "\n",
    "amzn[\"full_review\"]=amzn[\"review_title\"]+\" \"+amzn[\"review_content\"]\n",
    "tfidf=TfidfVectorizer(max_features=1000,stop_words='english')\n",
    "tfidf_matrix=tfidf.fit_transform(amzn['full_review'])\n",
    "amzn.head()"
   ]
  },
  {
   "cell_type": "markdown",
   "id": "cf5ac988-434e-4a60-884d-75bead08f077",
   "metadata": {},
   "source": [
    "### Topic Modeling with Latent Dirichlet Allocation (LDA)"
   ]
  },
  {
   "cell_type": "markdown",
   "id": "36617b7f-677a-4dd8-886f-f6958b6af8ff",
   "metadata": {},
   "source": [
    "LDA is used for topic modeling, which helps discover abstract topics in a collection of documents. By setting `n_components=5`, we're asking the model to identify 5 main topics in the reviews. This number can be adjusted based on the diversity of products and reviews in the dataset."
   ]
  },
  {
   "cell_type": "code",
   "execution_count": 22,
   "id": "887b1f1b-d7b2-41b4-8779-70e8933df8f7",
   "metadata": {},
   "outputs": [
    {
     "data": {
      "text/html": [
       "<style>#sk-container-id-1 {\n",
       "  /* Definition of color scheme common for light and dark mode */\n",
       "  --sklearn-color-text: black;\n",
       "  --sklearn-color-line: gray;\n",
       "  /* Definition of color scheme for unfitted estimators */\n",
       "  --sklearn-color-unfitted-level-0: #fff5e6;\n",
       "  --sklearn-color-unfitted-level-1: #f6e4d2;\n",
       "  --sklearn-color-unfitted-level-2: #ffe0b3;\n",
       "  --sklearn-color-unfitted-level-3: chocolate;\n",
       "  /* Definition of color scheme for fitted estimators */\n",
       "  --sklearn-color-fitted-level-0: #f0f8ff;\n",
       "  --sklearn-color-fitted-level-1: #d4ebff;\n",
       "  --sklearn-color-fitted-level-2: #b3dbfd;\n",
       "  --sklearn-color-fitted-level-3: cornflowerblue;\n",
       "\n",
       "  /* Specific color for light theme */\n",
       "  --sklearn-color-text-on-default-background: var(--sg-text-color, var(--theme-code-foreground, var(--jp-content-font-color1, black)));\n",
       "  --sklearn-color-background: var(--sg-background-color, var(--theme-background, var(--jp-layout-color0, white)));\n",
       "  --sklearn-color-border-box: var(--sg-text-color, var(--theme-code-foreground, var(--jp-content-font-color1, black)));\n",
       "  --sklearn-color-icon: #696969;\n",
       "\n",
       "  @media (prefers-color-scheme: dark) {\n",
       "    /* Redefinition of color scheme for dark theme */\n",
       "    --sklearn-color-text-on-default-background: var(--sg-text-color, var(--theme-code-foreground, var(--jp-content-font-color1, white)));\n",
       "    --sklearn-color-background: var(--sg-background-color, var(--theme-background, var(--jp-layout-color0, #111)));\n",
       "    --sklearn-color-border-box: var(--sg-text-color, var(--theme-code-foreground, var(--jp-content-font-color1, white)));\n",
       "    --sklearn-color-icon: #878787;\n",
       "  }\n",
       "}\n",
       "\n",
       "#sk-container-id-1 {\n",
       "  color: var(--sklearn-color-text);\n",
       "}\n",
       "\n",
       "#sk-container-id-1 pre {\n",
       "  padding: 0;\n",
       "}\n",
       "\n",
       "#sk-container-id-1 input.sk-hidden--visually {\n",
       "  border: 0;\n",
       "  clip: rect(1px 1px 1px 1px);\n",
       "  clip: rect(1px, 1px, 1px, 1px);\n",
       "  height: 1px;\n",
       "  margin: -1px;\n",
       "  overflow: hidden;\n",
       "  padding: 0;\n",
       "  position: absolute;\n",
       "  width: 1px;\n",
       "}\n",
       "\n",
       "#sk-container-id-1 div.sk-dashed-wrapped {\n",
       "  border: 1px dashed var(--sklearn-color-line);\n",
       "  margin: 0 0.4em 0.5em 0.4em;\n",
       "  box-sizing: border-box;\n",
       "  padding-bottom: 0.4em;\n",
       "  background-color: var(--sklearn-color-background);\n",
       "}\n",
       "\n",
       "#sk-container-id-1 div.sk-container {\n",
       "  /* jupyter's `normalize.less` sets `[hidden] { display: none; }`\n",
       "     but bootstrap.min.css set `[hidden] { display: none !important; }`\n",
       "     so we also need the `!important` here to be able to override the\n",
       "     default hidden behavior on the sphinx rendered scikit-learn.org.\n",
       "     See: https://github.com/scikit-learn/scikit-learn/issues/21755 */\n",
       "  display: inline-block !important;\n",
       "  position: relative;\n",
       "}\n",
       "\n",
       "#sk-container-id-1 div.sk-text-repr-fallback {\n",
       "  display: none;\n",
       "}\n",
       "\n",
       "div.sk-parallel-item,\n",
       "div.sk-serial,\n",
       "div.sk-item {\n",
       "  /* draw centered vertical line to link estimators */\n",
       "  background-image: linear-gradient(var(--sklearn-color-text-on-default-background), var(--sklearn-color-text-on-default-background));\n",
       "  background-size: 2px 100%;\n",
       "  background-repeat: no-repeat;\n",
       "  background-position: center center;\n",
       "}\n",
       "\n",
       "/* Parallel-specific style estimator block */\n",
       "\n",
       "#sk-container-id-1 div.sk-parallel-item::after {\n",
       "  content: \"\";\n",
       "  width: 100%;\n",
       "  border-bottom: 2px solid var(--sklearn-color-text-on-default-background);\n",
       "  flex-grow: 1;\n",
       "}\n",
       "\n",
       "#sk-container-id-1 div.sk-parallel {\n",
       "  display: flex;\n",
       "  align-items: stretch;\n",
       "  justify-content: center;\n",
       "  background-color: var(--sklearn-color-background);\n",
       "  position: relative;\n",
       "}\n",
       "\n",
       "#sk-container-id-1 div.sk-parallel-item {\n",
       "  display: flex;\n",
       "  flex-direction: column;\n",
       "}\n",
       "\n",
       "#sk-container-id-1 div.sk-parallel-item:first-child::after {\n",
       "  align-self: flex-end;\n",
       "  width: 50%;\n",
       "}\n",
       "\n",
       "#sk-container-id-1 div.sk-parallel-item:last-child::after {\n",
       "  align-self: flex-start;\n",
       "  width: 50%;\n",
       "}\n",
       "\n",
       "#sk-container-id-1 div.sk-parallel-item:only-child::after {\n",
       "  width: 0;\n",
       "}\n",
       "\n",
       "/* Serial-specific style estimator block */\n",
       "\n",
       "#sk-container-id-1 div.sk-serial {\n",
       "  display: flex;\n",
       "  flex-direction: column;\n",
       "  align-items: center;\n",
       "  background-color: var(--sklearn-color-background);\n",
       "  padding-right: 1em;\n",
       "  padding-left: 1em;\n",
       "}\n",
       "\n",
       "\n",
       "/* Toggleable style: style used for estimator/Pipeline/ColumnTransformer box that is\n",
       "clickable and can be expanded/collapsed.\n",
       "- Pipeline and ColumnTransformer use this feature and define the default style\n",
       "- Estimators will overwrite some part of the style using the `sk-estimator` class\n",
       "*/\n",
       "\n",
       "/* Pipeline and ColumnTransformer style (default) */\n",
       "\n",
       "#sk-container-id-1 div.sk-toggleable {\n",
       "  /* Default theme specific background. It is overwritten whether we have a\n",
       "  specific estimator or a Pipeline/ColumnTransformer */\n",
       "  background-color: var(--sklearn-color-background);\n",
       "}\n",
       "\n",
       "/* Toggleable label */\n",
       "#sk-container-id-1 label.sk-toggleable__label {\n",
       "  cursor: pointer;\n",
       "  display: block;\n",
       "  width: 100%;\n",
       "  margin-bottom: 0;\n",
       "  padding: 0.5em;\n",
       "  box-sizing: border-box;\n",
       "  text-align: center;\n",
       "}\n",
       "\n",
       "#sk-container-id-1 label.sk-toggleable__label-arrow:before {\n",
       "  /* Arrow on the left of the label */\n",
       "  content: \"▸\";\n",
       "  float: left;\n",
       "  margin-right: 0.25em;\n",
       "  color: var(--sklearn-color-icon);\n",
       "}\n",
       "\n",
       "#sk-container-id-1 label.sk-toggleable__label-arrow:hover:before {\n",
       "  color: var(--sklearn-color-text);\n",
       "}\n",
       "\n",
       "/* Toggleable content - dropdown */\n",
       "\n",
       "#sk-container-id-1 div.sk-toggleable__content {\n",
       "  max-height: 0;\n",
       "  max-width: 0;\n",
       "  overflow: hidden;\n",
       "  text-align: left;\n",
       "  /* unfitted */\n",
       "  background-color: var(--sklearn-color-unfitted-level-0);\n",
       "}\n",
       "\n",
       "#sk-container-id-1 div.sk-toggleable__content.fitted {\n",
       "  /* fitted */\n",
       "  background-color: var(--sklearn-color-fitted-level-0);\n",
       "}\n",
       "\n",
       "#sk-container-id-1 div.sk-toggleable__content pre {\n",
       "  margin: 0.2em;\n",
       "  border-radius: 0.25em;\n",
       "  color: var(--sklearn-color-text);\n",
       "  /* unfitted */\n",
       "  background-color: var(--sklearn-color-unfitted-level-0);\n",
       "}\n",
       "\n",
       "#sk-container-id-1 div.sk-toggleable__content.fitted pre {\n",
       "  /* unfitted */\n",
       "  background-color: var(--sklearn-color-fitted-level-0);\n",
       "}\n",
       "\n",
       "#sk-container-id-1 input.sk-toggleable__control:checked~div.sk-toggleable__content {\n",
       "  /* Expand drop-down */\n",
       "  max-height: 200px;\n",
       "  max-width: 100%;\n",
       "  overflow: auto;\n",
       "}\n",
       "\n",
       "#sk-container-id-1 input.sk-toggleable__control:checked~label.sk-toggleable__label-arrow:before {\n",
       "  content: \"▾\";\n",
       "}\n",
       "\n",
       "/* Pipeline/ColumnTransformer-specific style */\n",
       "\n",
       "#sk-container-id-1 div.sk-label input.sk-toggleable__control:checked~label.sk-toggleable__label {\n",
       "  color: var(--sklearn-color-text);\n",
       "  background-color: var(--sklearn-color-unfitted-level-2);\n",
       "}\n",
       "\n",
       "#sk-container-id-1 div.sk-label.fitted input.sk-toggleable__control:checked~label.sk-toggleable__label {\n",
       "  background-color: var(--sklearn-color-fitted-level-2);\n",
       "}\n",
       "\n",
       "/* Estimator-specific style */\n",
       "\n",
       "/* Colorize estimator box */\n",
       "#sk-container-id-1 div.sk-estimator input.sk-toggleable__control:checked~label.sk-toggleable__label {\n",
       "  /* unfitted */\n",
       "  background-color: var(--sklearn-color-unfitted-level-2);\n",
       "}\n",
       "\n",
       "#sk-container-id-1 div.sk-estimator.fitted input.sk-toggleable__control:checked~label.sk-toggleable__label {\n",
       "  /* fitted */\n",
       "  background-color: var(--sklearn-color-fitted-level-2);\n",
       "}\n",
       "\n",
       "#sk-container-id-1 div.sk-label label.sk-toggleable__label,\n",
       "#sk-container-id-1 div.sk-label label {\n",
       "  /* The background is the default theme color */\n",
       "  color: var(--sklearn-color-text-on-default-background);\n",
       "}\n",
       "\n",
       "/* On hover, darken the color of the background */\n",
       "#sk-container-id-1 div.sk-label:hover label.sk-toggleable__label {\n",
       "  color: var(--sklearn-color-text);\n",
       "  background-color: var(--sklearn-color-unfitted-level-2);\n",
       "}\n",
       "\n",
       "/* Label box, darken color on hover, fitted */\n",
       "#sk-container-id-1 div.sk-label.fitted:hover label.sk-toggleable__label.fitted {\n",
       "  color: var(--sklearn-color-text);\n",
       "  background-color: var(--sklearn-color-fitted-level-2);\n",
       "}\n",
       "\n",
       "/* Estimator label */\n",
       "\n",
       "#sk-container-id-1 div.sk-label label {\n",
       "  font-family: monospace;\n",
       "  font-weight: bold;\n",
       "  display: inline-block;\n",
       "  line-height: 1.2em;\n",
       "}\n",
       "\n",
       "#sk-container-id-1 div.sk-label-container {\n",
       "  text-align: center;\n",
       "}\n",
       "\n",
       "/* Estimator-specific */\n",
       "#sk-container-id-1 div.sk-estimator {\n",
       "  font-family: monospace;\n",
       "  border: 1px dotted var(--sklearn-color-border-box);\n",
       "  border-radius: 0.25em;\n",
       "  box-sizing: border-box;\n",
       "  margin-bottom: 0.5em;\n",
       "  /* unfitted */\n",
       "  background-color: var(--sklearn-color-unfitted-level-0);\n",
       "}\n",
       "\n",
       "#sk-container-id-1 div.sk-estimator.fitted {\n",
       "  /* fitted */\n",
       "  background-color: var(--sklearn-color-fitted-level-0);\n",
       "}\n",
       "\n",
       "/* on hover */\n",
       "#sk-container-id-1 div.sk-estimator:hover {\n",
       "  /* unfitted */\n",
       "  background-color: var(--sklearn-color-unfitted-level-2);\n",
       "}\n",
       "\n",
       "#sk-container-id-1 div.sk-estimator.fitted:hover {\n",
       "  /* fitted */\n",
       "  background-color: var(--sklearn-color-fitted-level-2);\n",
       "}\n",
       "\n",
       "/* Specification for estimator info (e.g. \"i\" and \"?\") */\n",
       "\n",
       "/* Common style for \"i\" and \"?\" */\n",
       "\n",
       ".sk-estimator-doc-link,\n",
       "a:link.sk-estimator-doc-link,\n",
       "a:visited.sk-estimator-doc-link {\n",
       "  float: right;\n",
       "  font-size: smaller;\n",
       "  line-height: 1em;\n",
       "  font-family: monospace;\n",
       "  background-color: var(--sklearn-color-background);\n",
       "  border-radius: 1em;\n",
       "  height: 1em;\n",
       "  width: 1em;\n",
       "  text-decoration: none !important;\n",
       "  margin-left: 1ex;\n",
       "  /* unfitted */\n",
       "  border: var(--sklearn-color-unfitted-level-1) 1pt solid;\n",
       "  color: var(--sklearn-color-unfitted-level-1);\n",
       "}\n",
       "\n",
       ".sk-estimator-doc-link.fitted,\n",
       "a:link.sk-estimator-doc-link.fitted,\n",
       "a:visited.sk-estimator-doc-link.fitted {\n",
       "  /* fitted */\n",
       "  border: var(--sklearn-color-fitted-level-1) 1pt solid;\n",
       "  color: var(--sklearn-color-fitted-level-1);\n",
       "}\n",
       "\n",
       "/* On hover */\n",
       "div.sk-estimator:hover .sk-estimator-doc-link:hover,\n",
       ".sk-estimator-doc-link:hover,\n",
       "div.sk-label-container:hover .sk-estimator-doc-link:hover,\n",
       ".sk-estimator-doc-link:hover {\n",
       "  /* unfitted */\n",
       "  background-color: var(--sklearn-color-unfitted-level-3);\n",
       "  color: var(--sklearn-color-background);\n",
       "  text-decoration: none;\n",
       "}\n",
       "\n",
       "div.sk-estimator.fitted:hover .sk-estimator-doc-link.fitted:hover,\n",
       ".sk-estimator-doc-link.fitted:hover,\n",
       "div.sk-label-container:hover .sk-estimator-doc-link.fitted:hover,\n",
       ".sk-estimator-doc-link.fitted:hover {\n",
       "  /* fitted */\n",
       "  background-color: var(--sklearn-color-fitted-level-3);\n",
       "  color: var(--sklearn-color-background);\n",
       "  text-decoration: none;\n",
       "}\n",
       "\n",
       "/* Span, style for the box shown on hovering the info icon */\n",
       ".sk-estimator-doc-link span {\n",
       "  display: none;\n",
       "  z-index: 9999;\n",
       "  position: relative;\n",
       "  font-weight: normal;\n",
       "  right: .2ex;\n",
       "  padding: .5ex;\n",
       "  margin: .5ex;\n",
       "  width: min-content;\n",
       "  min-width: 20ex;\n",
       "  max-width: 50ex;\n",
       "  color: var(--sklearn-color-text);\n",
       "  box-shadow: 2pt 2pt 4pt #999;\n",
       "  /* unfitted */\n",
       "  background: var(--sklearn-color-unfitted-level-0);\n",
       "  border: .5pt solid var(--sklearn-color-unfitted-level-3);\n",
       "}\n",
       "\n",
       ".sk-estimator-doc-link.fitted span {\n",
       "  /* fitted */\n",
       "  background: var(--sklearn-color-fitted-level-0);\n",
       "  border: var(--sklearn-color-fitted-level-3);\n",
       "}\n",
       "\n",
       ".sk-estimator-doc-link:hover span {\n",
       "  display: block;\n",
       "}\n",
       "\n",
       "/* \"?\"-specific style due to the `<a>` HTML tag */\n",
       "\n",
       "#sk-container-id-1 a.estimator_doc_link {\n",
       "  float: right;\n",
       "  font-size: 1rem;\n",
       "  line-height: 1em;\n",
       "  font-family: monospace;\n",
       "  background-color: var(--sklearn-color-background);\n",
       "  border-radius: 1rem;\n",
       "  height: 1rem;\n",
       "  width: 1rem;\n",
       "  text-decoration: none;\n",
       "  /* unfitted */\n",
       "  color: var(--sklearn-color-unfitted-level-1);\n",
       "  border: var(--sklearn-color-unfitted-level-1) 1pt solid;\n",
       "}\n",
       "\n",
       "#sk-container-id-1 a.estimator_doc_link.fitted {\n",
       "  /* fitted */\n",
       "  border: var(--sklearn-color-fitted-level-1) 1pt solid;\n",
       "  color: var(--sklearn-color-fitted-level-1);\n",
       "}\n",
       "\n",
       "/* On hover */\n",
       "#sk-container-id-1 a.estimator_doc_link:hover {\n",
       "  /* unfitted */\n",
       "  background-color: var(--sklearn-color-unfitted-level-3);\n",
       "  color: var(--sklearn-color-background);\n",
       "  text-decoration: none;\n",
       "}\n",
       "\n",
       "#sk-container-id-1 a.estimator_doc_link.fitted:hover {\n",
       "  /* fitted */\n",
       "  background-color: var(--sklearn-color-fitted-level-3);\n",
       "}\n",
       "</style><div id=\"sk-container-id-1\" class=\"sk-top-container\"><div class=\"sk-text-repr-fallback\"><pre>LatentDirichletAllocation(n_components=5, random_state=50)</pre><b>In a Jupyter environment, please rerun this cell to show the HTML representation or trust the notebook. <br />On GitHub, the HTML representation is unable to render, please try loading this page with nbviewer.org.</b></div><div class=\"sk-container\" hidden><div class=\"sk-item\"><div class=\"sk-estimator fitted sk-toggleable\"><input class=\"sk-toggleable__control sk-hidden--visually\" id=\"sk-estimator-id-1\" type=\"checkbox\" checked><label for=\"sk-estimator-id-1\" class=\"sk-toggleable__label fitted sk-toggleable__label-arrow fitted\">&nbsp;&nbsp;LatentDirichletAllocation<a class=\"sk-estimator-doc-link fitted\" rel=\"noreferrer\" target=\"_blank\" href=\"https://scikit-learn.org/1.5/modules/generated/sklearn.decomposition.LatentDirichletAllocation.html\">?<span>Documentation for LatentDirichletAllocation</span></a><span class=\"sk-estimator-doc-link fitted\">i<span>Fitted</span></span></label><div class=\"sk-toggleable__content fitted\"><pre>LatentDirichletAllocation(n_components=5, random_state=50)</pre></div> </div></div></div></div>"
      ],
      "text/plain": [
       "LatentDirichletAllocation(n_components=5, random_state=50)"
      ]
     },
     "execution_count": 22,
     "metadata": {},
     "output_type": "execute_result"
    }
   ],
   "source": [
    "from sklearn.decomposition import LatentDirichletAllocation\n",
    "\n",
    "lda=LatentDirichletAllocation(n_components=5, random_state=50)\n",
    "lda.fit(tfidf_matrix)"
   ]
  },
  {
   "cell_type": "markdown",
   "id": "be8db398-3609-404a-927f-8e1701e22432",
   "metadata": {},
   "source": [
    "### Result Interpretation"
   ]
  },
  {
   "cell_type": "markdown",
   "id": "b0a7658c-4e25-4ff6-a915-ae9c4cc68073",
   "metadata": {},
   "source": [
    "Now we print top 10 words for each identified topic."
   ]
  },
  {
   "cell_type": "code",
   "execution_count": 23,
   "id": "abe97c98-1e24-428f-afb7-f82b98cbbc28",
   "metadata": {},
   "outputs": [
    {
     "name": "stdout",
     "output_type": "stream",
     "text": [
      "Topic 1: cable, charging, good, product, fast, usb, quality, charger, nice, working\n",
      "Topic 2: good, tv, sound, quality, phone, camera, battery, product, picture, price\n",
      "Topic 3: good, product, use, easy, nice, quality, money, price, water, value\n",
      "Topic 4: keyboard, keys, printer, typing, key, bar, wrist, print, connects, download\n",
      "Topic 5: watch, battery, good, phone, features, smart, calling, smartwatch, life, faces\n"
     ]
    }
   ],
   "source": [
    "# Get the list of words from the TF-IDF model\n",
    "words = tfidf.get_feature_names_out()\n",
    "\n",
    "# Loop through each topic\n",
    "for topic_number, topic in enumerate(lda.components_):\n",
    "    # Find the top 10 words for the current topic\n",
    "    top_words = []\n",
    "    for i in topic.argsort()[-10:][::-1]:  # Get the indices of the top words in reverse order\n",
    "        top_words.append(words[i])\n",
    "    \n",
    "    # Print the topic number and the top words for that topic\n",
    "    print(f\"Topic {topic_number + 1}: {', '.join(top_words)}\")"
   ]
  },
  {
   "cell_type": "markdown",
   "id": "985f590a-9eb0-4563-8700-3b40b66848b3",
   "metadata": {},
   "source": [
    "### Topic-by-Topic Analysis"
   ]
  },
  {
   "cell_type": "markdown",
   "id": "0ad147c8-932f-43c1-9f98-599094529c4a",
   "metadata": {},
   "source": [
    "#### Topic 1: Charging Accessories"
   ]
  },
  {
   "cell_type": "markdown",
   "id": "11b18c84-087c-4585-ab70-678b89cfb7ef",
   "metadata": {},
   "source": [
    "**Key words**: cable, charging, good, product, fast, usb, quality, charger, nice, working\n",
    "\n",
    "This topic discussion focuses on charging accessories, particularly USB cables and chargers.\n",
    "\n",
    "**Insights**:\n",
    "* Customers frequently talk about quality and speed (or speed-related phrases like \"good\" \"fast\" and \"quality\") in addition to cable, usb and charging displaying that these are important factors to take into consideration when charging products.\n",
    "* The word \"working\" suggests that functionality comes first, it seems to be possible that users have previously come across non-functional things.\n",
    "\n",
    "**Business Implications**:\n",
    "* Marketing and advertising should emphasize on reliability and speed of products\n",
    "* For charging accessories, quality control and high quality standards are most important.\n",
    "* There may be an opportunity to develop expensive, quick-charging gadgets."
   ]
  },
  {
   "cell_type": "markdown",
   "id": "679d13fa-500f-4168-9402-485209564816",
   "metadata": {},
   "source": [
    "#### Topic 2: Entertainment and Communication Devices"
   ]
  },
  {
   "cell_type": "markdown",
   "id": "3856c59a-21a7-42e0-b6a2-90b41ef4e149",
   "metadata": {},
   "source": [
    "**Key words**: good, tv, sound, quality, phone, camera, battery, product, picture, price\n",
    "\n",
    "This topic covers a wide range of technical devices, including phones, cameras, and televisions.\n",
    "\n",
    "**Insights**:\n",
    "* A discussion of picture and sound quality is included, demonstrating the importance of the sensory experience for both products.\n",
    "* Battery life appears to be an important factor for portable and handheld devices.\n",
    "* The mention of price suggests that this category's customers are price-sensitive.\n",
    "\n",
    "**Business Implications**:\n",
    "* Investments should be made in mobile device battery technology.\n",
    "* Focus on improving the audio-visual quality of phones and TVs\n",
    "* Consider competitive and lucrative pricing strategies without compromising quality."
   ]
  },
  {
   "cell_type": "markdown",
   "id": "bcc587a2-8dc9-4fc0-af9c-f5f33fb9c755",
   "metadata": {},
   "source": [
    "#### Topic 3: General Product Satisfaction and Value"
   ]
  },
  {
   "cell_type": "markdown",
   "id": "bf0cc230-e579-4c47-8ac5-c033d019566c",
   "metadata": {},
   "source": [
    "**Key words**: good, product, use, easy, nice, quality, money, price, water, value\n",
    "\n",
    "This topic seems to cover a wide variety of perceptions regarding generic product areas.\n",
    "\n",
    "**Insights**:\n",
    "* The topic of ease-of-use is frequently discussed (\"easy\", \"use\").\n",
    "* It is clear that value for money is important (\"money\", \"price\", \"value\").\n",
    "* The term \"water\" could imply that customers prioritize water resistance for certain products.\n",
    "\n",
    "**Business Implications**:\n",
    "* Assess if the products offer a good return on investment (ROI).\n",
    "* Consider expanding product lines with wide variety that are water-resistant.\n",
    "* In marketing and product design, emphasize User Interface and User Experience."
   ]
  },
  {
   "cell_type": "markdown",
   "id": "a1354bb5-4c76-4922-a51e-56a6fd3a5d37",
   "metadata": {},
   "source": [
    "#### Topic 4: Computer Peripherals and Software"
   ]
  },
  {
   "cell_type": "markdown",
   "id": "b0159ab1-5214-4f77-895a-6cbc4b1d001d",
   "metadata": {},
   "source": [
    "**Key words**: keyboard, keys, printer, typing, key, bar, wrist, print, connects, download\n",
    "\n",
    "This topic focuses primarily on computer peripherals, particularly keyboards and printers.\n",
    "\n",
    "**Insights**:\n",
    "* Ergonomics seems important (\"wrist\"), maybe discussing about wrist rests for keyboards.\n",
    "* Connectivity is a crucial element (\"connects\", \"download\").\n",
    "* The typing experience is important for keyboards.\n",
    "\n",
    "**Business Implications**:\n",
    "* Invest on computer accessories with a focus on ergonomics.\n",
    "* Ensure easy keyboard and printer setup and seamless communication for ease of use.\n",
    "* Create keyboard layouts that make typing easier and more engaging for customers."
   ]
  },
  {
   "cell_type": "markdown",
   "id": "5beacd25-71dc-495a-bd22-661560fe5d03",
   "metadata": {},
   "source": [
    "#### Topic 5: Smartwatches and Wearables"
   ]
  },
  {
   "cell_type": "markdown",
   "id": "e1970a88-d00d-4a04-a712-6cc07d31a5de",
   "metadata": {},
   "source": [
    "**Key words**: watch, battery, good, phone, features, smart, calling, smartwatch, life, faces\n",
    "\n",
    "This topic's conversation revolves upon smartwatches and their features.\n",
    "\n",
    "**Insights**:\n",
    "* The importance of calling features indicates a need for solo functionality.\n",
    "* The battery life of a smartwatch is an important factor.\n",
    "* Customization features like face unlock are valued by users.\n",
    "\n",
    "**Business Implications**:\n",
    "* Prioritize improving battery life when creating smartwatches.\n",
    "* Enhance the calling capabilities of smartwatches.\n",
    "* Pay attention to and enhance the face lock feature of smartwatches."
   ]
  },
  {
   "cell_type": "code",
   "execution_count": null,
   "id": "3f81af4e-39ce-4bad-8039-9b00fd398271",
   "metadata": {},
   "outputs": [],
   "source": []
  }
 ],
 "metadata": {
  "kernelspec": {
   "display_name": "Python 3 (ipykernel)",
   "language": "python",
   "name": "python3"
  },
  "language_info": {
   "codemirror_mode": {
    "name": "ipython",
    "version": 3
   },
   "file_extension": ".py",
   "mimetype": "text/x-python",
   "name": "python",
   "nbconvert_exporter": "python",
   "pygments_lexer": "ipython3",
   "version": "3.12.6"
  }
 },
 "nbformat": 4,
 "nbformat_minor": 5
}
