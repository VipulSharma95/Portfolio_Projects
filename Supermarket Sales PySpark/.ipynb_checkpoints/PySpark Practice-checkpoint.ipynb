{
 "cells": [
  {
   "cell_type": "code",
   "execution_count": 1,
   "id": "3a36506e-e8ec-463f-9603-eb31dcfc691d",
   "metadata": {},
   "outputs": [],
   "source": [
    "#Create sparksession\n",
    "import findspark\n",
    "findspark.init()\n",
    "from pyspark.sql import SparkSession\n",
    "\n",
    "spark = SparkSession.builder.appName(\"MySparkApp\").master(\"local[*]\").getOrCreate()"
   ]
  },
  {
   "cell_type": "code",
   "execution_count": 2,
   "id": "8781809b-a658-4b7d-92bf-45c349cf751d",
   "metadata": {},
   "outputs": [],
   "source": [
    "sales_df = spark.read.csv(\"supermarket_sales - Sheet1.csv\",header=True)"
   ]
  },
  {
   "cell_type": "code",
   "execution_count": 3,
   "id": "2d736212-8b69-42e3-bfc8-124ca8b1c819",
   "metadata": {},
   "outputs": [
    {
     "name": "stdout",
     "output_type": "stream",
     "text": [
      "+-----------+------+---------+-------------+------+--------------------+----------+--------+-------+--------+---------+-----+-----------+------+-----------------------+------------+------+\n",
      "| Invoice ID|Branch|     City|Customer type|Gender|        Product line|Unit price|Quantity| Tax 5%|   Total|     Date| Time|    Payment|  cogs|gross margin percentage|gross income|Rating|\n",
      "+-----------+------+---------+-------------+------+--------------------+----------+--------+-------+--------+---------+-----+-----------+------+-----------------------+------------+------+\n",
      "|750-67-8428|     A|   Yangon|       Member|Female|   Health and beauty|     74.69|       7|26.1415|548.9715| 1/5/2019|13:08|    Ewallet|522.83|            4.761904762|     26.1415|   9.1|\n",
      "|226-31-3081|     C|Naypyitaw|       Normal|Female|Electronic access...|     15.28|       5|   3.82|   80.22| 3/8/2019|10:29|       Cash|  76.4|            4.761904762|        3.82|   9.6|\n",
      "|631-41-3108|     A|   Yangon|       Normal|  Male|  Home and lifestyle|     46.33|       7|16.2155|340.5255| 3/3/2019|13:23|Credit card|324.31|            4.761904762|     16.2155|   7.4|\n",
      "|123-19-1176|     A|   Yangon|       Member|  Male|   Health and beauty|     58.22|       8| 23.288| 489.048|1/27/2019|20:33|    Ewallet|465.76|            4.761904762|      23.288|   8.4|\n",
      "|373-73-7910|     A|   Yangon|       Normal|  Male|   Sports and travel|     86.31|       7|30.2085|634.3785| 2/8/2019|10:37|    Ewallet|604.17|            4.761904762|     30.2085|   5.3|\n",
      "|699-14-3026|     C|Naypyitaw|       Normal|  Male|Electronic access...|     85.39|       7|29.8865|627.6165|3/25/2019|18:30|    Ewallet|597.73|            4.761904762|     29.8865|   4.1|\n",
      "|355-53-5943|     A|   Yangon|       Member|Female|Electronic access...|     68.84|       6| 20.652| 433.692|2/25/2019|14:36|    Ewallet|413.04|            4.761904762|      20.652|   5.8|\n",
      "|315-22-5665|     C|Naypyitaw|       Normal|Female|  Home and lifestyle|     73.56|      10|  36.78|  772.38|2/24/2019|11:38|    Ewallet| 735.6|            4.761904762|       36.78|     8|\n",
      "|665-32-9167|     A|   Yangon|       Member|Female|   Health and beauty|     36.26|       2|  3.626|  76.146|1/10/2019|17:15|Credit card| 72.52|            4.761904762|       3.626|   7.2|\n",
      "|692-92-5582|     B| Mandalay|       Member|Female|  Food and beverages|     54.84|       3|  8.226| 172.746|2/20/2019|13:27|Credit card|164.52|            4.761904762|       8.226|   5.9|\n",
      "|351-62-0822|     B| Mandalay|       Member|Female| Fashion accessories|     14.48|       4|  2.896|  60.816| 2/6/2019|18:07|    Ewallet| 57.92|            4.761904762|       2.896|   4.5|\n",
      "|529-56-3974|     B| Mandalay|       Member|  Male|Electronic access...|     25.51|       4|  5.102| 107.142| 3/9/2019|17:03|       Cash|102.04|            4.761904762|       5.102|   6.8|\n",
      "|365-64-0515|     A|   Yangon|       Normal|Female|Electronic access...|     46.95|       5|11.7375|246.4875|2/12/2019|10:25|    Ewallet|234.75|            4.761904762|     11.7375|   7.1|\n",
      "|252-56-2699|     A|   Yangon|       Normal|  Male|  Food and beverages|     43.19|      10| 21.595| 453.495| 2/7/2019|16:48|    Ewallet| 431.9|            4.761904762|      21.595|   8.2|\n",
      "|829-34-3910|     A|   Yangon|       Normal|Female|   Health and beauty|     71.38|      10|  35.69|  749.49|3/29/2019|19:21|       Cash| 713.8|            4.761904762|       35.69|   5.7|\n",
      "|299-46-1805|     B| Mandalay|       Member|Female|   Sports and travel|     93.72|       6| 28.116| 590.436|1/15/2019|16:19|       Cash|562.32|            4.761904762|      28.116|   4.5|\n",
      "|656-95-9349|     A|   Yangon|       Member|Female|   Health and beauty|     68.93|       7|24.1255|506.6355|3/11/2019|11:03|Credit card|482.51|            4.761904762|     24.1255|   4.6|\n",
      "|765-26-6951|     A|   Yangon|       Normal|  Male|   Sports and travel|     72.61|       6| 21.783| 457.443| 1/1/2019|10:39|Credit card|435.66|            4.761904762|      21.783|   6.9|\n",
      "|329-62-1586|     A|   Yangon|       Normal|  Male|  Food and beverages|     54.67|       3| 8.2005|172.2105|1/21/2019|18:00|Credit card|164.01|            4.761904762|      8.2005|   8.6|\n",
      "|319-50-3348|     B| Mandalay|       Normal|Female|  Home and lifestyle|      40.3|       2|   4.03|   84.63|3/11/2019|15:30|    Ewallet|  80.6|            4.761904762|        4.03|   4.4|\n",
      "+-----------+------+---------+-------------+------+--------------------+----------+--------+-------+--------+---------+-----+-----------+------+-----------------------+------------+------+\n",
      "only showing top 20 rows\n",
      "\n"
     ]
    }
   ],
   "source": [
    "sales_df.show()"
   ]
  },
  {
   "cell_type": "code",
   "execution_count": 4,
   "id": "8cd53aa5-3972-4f0b-a86d-5f00897843c2",
   "metadata": {},
   "outputs": [],
   "source": [
    "flights_df = spark.read.parquet(\"flights-1m.parquet\")"
   ]
  },
  {
   "cell_type": "code",
   "execution_count": 5,
   "id": "b79be9eb-af58-4831-a2e5-5912fe6c4917",
   "metadata": {},
   "outputs": [
    {
     "name": "stdout",
     "output_type": "stream",
     "text": [
      "+----------+---------+---------+--------+--------+---------+---------+\n",
      "|   FL_DATE|DEP_DELAY|ARR_DELAY|AIR_TIME|DISTANCE| DEP_TIME| ARR_TIME|\n",
      "+----------+---------+---------+--------+--------+---------+---------+\n",
      "|2006-01-01|        5|       19|     350|    2475| 9.083333|12.483334|\n",
      "|2006-01-02|      167|      216|     343|    2475|11.783334|15.766666|\n",
      "|2006-01-03|       -7|       -2|     344|    2475| 8.883333|12.133333|\n",
      "|2006-01-04|       -5|      -13|     331|    2475| 8.916667|    11.95|\n",
      "|2006-01-05|       -3|      -17|     321|    2475|     8.95|11.883333|\n",
      "|2006-01-06|       -4|      -32|     320|    2475| 8.933333|11.633333|\n",
      "|2006-01-08|       -3|       -2|     346|    2475|     8.95|12.133333|\n",
      "|2006-01-09|        3|        0|     334|    2475|     9.05|12.166667|\n",
      "|2006-01-10|       -7|      -21|     334|    2475| 8.883333|11.816667|\n",
      "|2006-01-11|        8|      -10|     321|    2475| 9.133333|     12.0|\n",
      "|2006-01-12|       -5|      -27|     321|    2475| 8.916667|11.716666|\n",
      "|2006-01-13|       -7|       -6|     327|    2475| 8.883333|12.066667|\n",
      "|2006-01-15|       47|       73|     333|    2475| 9.783334|13.383333|\n",
      "|2006-01-16|       -4|      -14|     329|    2475| 8.933333|11.933333|\n",
      "|2006-01-17|       -4|      -11|     337|    2475| 8.933333|11.983334|\n",
      "|2006-01-18|       -1|        4|     342|    2475| 8.983334|12.233334|\n",
      "|2006-01-19|       -2|        2|     343|    2475| 8.966666|     12.2|\n",
      "|2006-01-20|       -3|       -8|     343|    2475|     8.95|12.033334|\n",
      "|2006-01-22|       -8|       -9|     342|    2475| 8.866667|12.016666|\n",
      "|2006-01-23|       -4|       -1|     338|    2475| 8.933333|    12.15|\n",
      "+----------+---------+---------+--------+--------+---------+---------+\n",
      "only showing top 20 rows\n",
      "\n"
     ]
    }
   ],
   "source": [
    "flights_df.show()"
   ]
  },
  {
   "cell_type": "code",
   "execution_count": 6,
   "id": "18c9fb90-1599-4342-adc5-1a64fe5261fe",
   "metadata": {},
   "outputs": [],
   "source": [
    "student_df = spark.read.json(\"Students_Grading_Dataset.json\",multiLine=True)"
   ]
  },
  {
   "cell_type": "code",
   "execution_count": 7,
   "id": "0a804954-aff5-46b7-9656-f2e4a75e345a",
   "metadata": {},
   "outputs": [
    {
     "name": "stdout",
     "output_type": "stream",
     "text": [
      "+---+---------------+--------------+-----------+--------------------+--------------------------+-------------------+-----------+----------+------+-----+-----------------------+---------+-------------+----------------------+-------------------+--------------+-----------+---------------------+-------------------+----------+--------------------+-----------+\n",
      "|Age|Assignments_Avg|Attendance (%)| Department|               Email|Extracurricular_Activities|Family_Income_Level|Final_Score|First_Name|Gender|Grade|Internet_Access_at_Home|Last_Name|Midterm_Score|Parent_Education_Level|Participation_Score|Projects_Score|Quizzes_Avg|Sleep_Hours_per_Night|Stress_Level (1-10)|Student_ID|Study_Hours_per_Week|Total_Score|\n",
      "+---+---------------+--------------+-----------+--------------------+--------------------------+-------------------+-----------+----------+------+-----+-----------------------+---------+-------------+----------------------+-------------------+--------------+-----------+---------------------+-------------------+----------+--------------------+-----------+\n",
      "| 22|          84.22|         52.29|Engineering|student0@universi...|                        No|             Medium|      57.82|      Omar|Female|    F|                    Yes| Williams|        55.03|           High School|               3.99|          85.9|      74.06|                  4.7|                  5|     S1000|                 6.2|      56.09|\n",
      "| 18|           NULL|         97.27|Engineering|student1@universi...|                        No|             Medium|       45.8|     Maria|  Male|    A|                    Yes|    Brown|        97.23|                  None|               8.32|         55.65|      94.24|                  9.0|                  4|     S1001|                19.0|      50.64|\n",
      "| 24|           67.7|         57.19|   Business|student2@universi...|                        No|                Low|      93.68|     Ahmed|  Male|    D|                    Yes|    Jones|        67.05|              Master's|               5.05|         73.79|       85.7|                  6.2|                  6|     S1002|                20.7|       70.3|\n",
      "| 24|          66.06|         95.15|Mathematics|student3@universi...|                       Yes|               High|      80.63|      Omar|Female|    A|                    Yes| Williams|        47.79|           High School|               6.54|         92.12|      93.51|                  6.7|                  3|     S1003|                24.8|      61.63|\n",
      "| 23|          96.85|         54.18|         CS|student4@universi...|                       Yes|               High|      78.89|      John|Female|    F|                    Yes|    Smith|        46.59|           High School|               5.97|         68.42|       83.7|                  7.1|                  2|     S1004|                15.4|      66.13|\n",
      "| 21|           71.4|          NULL|Engineering|student5@universi...|                       Yes|               High|      43.53|      Liam|  Male|    B|                    Yes|    Brown|        78.85|                   PhD|               6.38|         67.29|       52.2|                  5.0|                  1|     S1005|                 8.5|      62.08|\n",
      "| 24|          84.52|          57.6|   Business|student6@universi...|                        No|                Low|      89.07|     Ahmed|  Male|    F|                    Yes|    Jones|        66.26|                  NULL|                2.3|         93.65|       98.4|                  6.4|                  5|     S1006|                21.3|      83.21|\n",
      "| 19|          80.12|         51.91|Engineering|student7@universi...|                       Yes|             Medium|      73.96|     Ahmed|  Male|    F|                     No|    Smith|        45.67|                  None|               3.73|         93.24|       95.9|                  4.3|                  4|     S1007|                27.3|      81.93|\n",
      "| 21|          57.05|         85.97|         CS|student8@universi...|                        No|                Low|      90.87|      Omar|Female|    A|                     No|    Smith|        84.42|            Bachelor's|               0.51|         94.01|      56.33|                  8.8|                  9|     S1008|                 8.0|      95.62|\n",
      "| 22|          96.98|         64.01|Engineering|student9@universi...|                        No|             Medium|      98.47|      Sara|Female|    A|                    Yes|    Smith|        87.96|                  None|               5.88|          78.6|      55.63|                  6.4|                 10|     S1009|                 9.6|      84.99|\n",
      "| 23|          67.29|         85.72|         CS|student10@univers...|                        No|                Low|      97.43|      John|Female|    A|                    Yes|    Smith|        83.52|           High School|               4.59|         97.62|      76.95|                  4.1|                  1|     S1010|                13.2|      58.25|\n",
      "| 20|          52.24|         77.75|Engineering|student11@univers...|                        No|                Low|      91.37|      Omar|Female|    C|                    Yes| Williams|        52.14|              Master's|               7.61|         90.95|      87.85|                  7.0|                  9|     S1011|                21.3|      87.58|\n",
      "| 21|          65.02|         55.44|Engineering|student12@univers...|                        No|               High|      40.66|      John|  Male|    F|                    Yes|    Davis|        81.39|              Master's|               2.06|         70.78|      69.11|                  4.5|                  8|     S1012|                18.1|      59.06|\n",
      "| 18|          66.78|         96.61|   Business|student13@univers...|                        No|             Medium|      93.14|      John|  Male|    A|                    Yes| Williams|        40.64|                  None|               4.37|         81.48|      56.82|                  7.9|                 10|     S1013|                22.8|      77.93|\n",
      "| 19|          54.64|         72.62|Engineering|student14@univers...|                        No|                Low|       44.5|      Liam|  Male|    B|                    Yes| Williams|        58.31|                  None|               1.81|         56.09|      75.53|                  8.8|                  4|     S1014|                 5.8|      53.85|\n",
      "| 18|           81.0|         86.72|         CS|student15@univers...|                        No|               High|      91.07|     Ahmed|  Male|    A|                    Yes|    Jones|        63.93|                  None|               6.14|         77.57|      66.88|                  8.6|                  2|     S1015|                25.3|      52.37|\n",
      "| 21|          67.34|         75.05|         CS|student16@univers...|                        No|                Low|      56.81|     Maria|Female|    F|                    Yes|    Jones|        90.11|                  None|               8.48|         63.16|      67.59|                  6.1|                  3|     S1016|                29.7|      73.21|\n",
      "| 23|          81.46|         80.22|   Business|student17@univers...|                        No|             Medium|       76.6|      Liam|Female|    F|                     No|    Davis|        63.42|                   PhD|               7.65|         64.18|      82.25|                  7.6|                 10|     S1017|                 6.2|      55.25|\n",
      "| 20|          50.34|         65.14|         CS|student18@univers...|                        No|             Medium|      42.28|      Liam|  Male|    B|                    Yes|    Jones|        40.68|                  None|               9.44|         56.29|      94.28|                  4.8|                  9|     S1018|                17.4|      65.33|\n",
      "| 20|           99.1|         60.02|Engineering|student19@univers...|                       Yes|                Low|      86.27|      John|  Male|    D|                    Yes|  Johnson|        61.14|                   PhD|               9.72|         67.91|      77.93|                  4.4|                 10|     S1019|                23.5|      66.94|\n",
      "+---+---------------+--------------+-----------+--------------------+--------------------------+-------------------+-----------+----------+------+-----+-----------------------+---------+-------------+----------------------+-------------------+--------------+-----------+---------------------+-------------------+----------+--------------------+-----------+\n",
      "only showing top 20 rows\n",
      "\n"
     ]
    }
   ],
   "source": [
    "student_df.show()"
   ]
  },
  {
   "cell_type": "markdown",
   "id": "43bd2da8-0de3-405b-b1e7-79eb5b74cc59",
   "metadata": {},
   "source": [
    "## Missing data Handling in PySpark"
   ]
  },
  {
   "cell_type": "code",
   "execution_count": 8,
   "id": "93d5826c-127d-4d28-956f-62cbc323be9f",
   "metadata": {},
   "outputs": [
    {
     "data": {
      "text/plain": [
       "1000"
      ]
     },
     "execution_count": 8,
     "metadata": {},
     "output_type": "execute_result"
    }
   ],
   "source": [
    "sales_df.count()"
   ]
  },
  {
   "cell_type": "code",
   "execution_count": 9,
   "id": "a9be60dd-fcb3-4e91-9fc1-8cf709ab0d16",
   "metadata": {},
   "outputs": [
    {
     "data": {
      "text/plain": [
       "DataFrame[Invoice ID: string, Branch: string, City: string, Customer type: string, Gender: string, Product line: string, Unit price: string, Quantity: string, Tax 5%: string, Total: string, Date: string, Time: string, Payment: string, cogs: string, gross margin percentage: string, gross income: string, Rating: string]"
      ]
     },
     "execution_count": 9,
     "metadata": {},
     "output_type": "execute_result"
    }
   ],
   "source": [
    "sales_df.dropna(how=\"any\")"
   ]
  },
  {
   "cell_type": "code",
   "execution_count": 10,
   "id": "610fab70-e9d4-4c65-a3af-62f1c213abea",
   "metadata": {},
   "outputs": [
    {
     "data": {
      "text/plain": [
       "1000"
      ]
     },
     "execution_count": 10,
     "metadata": {},
     "output_type": "execute_result"
    }
   ],
   "source": [
    "sales_df.count()"
   ]
  },
  {
   "cell_type": "code",
   "execution_count": 11,
   "id": "de0d3288-1d88-48c1-8c1d-9d9a4c73802a",
   "metadata": {},
   "outputs": [
    {
     "data": {
      "text/plain": [
       "DataFrame[FL_DATE: date, DEP_DELAY: smallint, ARR_DELAY: smallint, AIR_TIME: smallint, DISTANCE: smallint, DEP_TIME: float, ARR_TIME: float]"
      ]
     },
     "execution_count": 11,
     "metadata": {},
     "output_type": "execute_result"
    }
   ],
   "source": [
    "flights_df.fillna(value=2)"
   ]
  },
  {
   "cell_type": "code",
   "execution_count": 12,
   "id": "196110d4-716b-4c75-975f-ffa1782a9405",
   "metadata": {},
   "outputs": [],
   "source": [
    "from pyspark.ml.feature import Imputer\n",
    "imputer = Imputer(strategy=\"median\",inputCols = [\"Attendance (%)\"],outputCols = [\"Attendance (%) out\"])"
   ]
  },
  {
   "cell_type": "code",
   "execution_count": 13,
   "id": "f608e60e-cee4-4fbd-8902-84b7ae9a4729",
   "metadata": {},
   "outputs": [],
   "source": [
    "model = imputer.fit(student_df)\n",
    "student_df_imputed = model.transform(student_df)"
   ]
  },
  {
   "cell_type": "code",
   "execution_count": 14,
   "id": "d3fd057d-bd04-4440-9664-0afdd126a2c5",
   "metadata": {},
   "outputs": [
    {
     "name": "stdout",
     "output_type": "stream",
     "text": [
      "+---+---------------+--------------+-----------+--------------------+--------------------------+-------------------+-----------+----------+------+-----+-----------------------+---------+-------------+----------------------+-------------------+--------------+-----------+---------------------+-------------------+----------+--------------------+-----------+------------------+\n",
      "|Age|Assignments_Avg|Attendance (%)| Department|               Email|Extracurricular_Activities|Family_Income_Level|Final_Score|First_Name|Gender|Grade|Internet_Access_at_Home|Last_Name|Midterm_Score|Parent_Education_Level|Participation_Score|Projects_Score|Quizzes_Avg|Sleep_Hours_per_Night|Stress_Level (1-10)|Student_ID|Study_Hours_per_Week|Total_Score|Attendance (%) out|\n",
      "+---+---------------+--------------+-----------+--------------------+--------------------------+-------------------+-----------+----------+------+-----+-----------------------+---------+-------------+----------------------+-------------------+--------------+-----------+---------------------+-------------------+----------+--------------------+-----------+------------------+\n",
      "| 22|          84.22|         52.29|Engineering|student0@universi...|                        No|             Medium|      57.82|      Omar|Female|    F|                    Yes| Williams|        55.03|           High School|               3.99|          85.9|      74.06|                  4.7|                  5|     S1000|                 6.2|      56.09|             52.29|\n",
      "| 18|           NULL|         97.27|Engineering|student1@universi...|                        No|             Medium|       45.8|     Maria|  Male|    A|                    Yes|    Brown|        97.23|                  None|               8.32|         55.65|      94.24|                  9.0|                  4|     S1001|                19.0|      50.64|             97.27|\n",
      "| 24|           67.7|         57.19|   Business|student2@universi...|                        No|                Low|      93.68|     Ahmed|  Male|    D|                    Yes|    Jones|        67.05|              Master's|               5.05|         73.79|       85.7|                  6.2|                  6|     S1002|                20.7|       70.3|             57.19|\n",
      "| 24|          66.06|         95.15|Mathematics|student3@universi...|                       Yes|               High|      80.63|      Omar|Female|    A|                    Yes| Williams|        47.79|           High School|               6.54|         92.12|      93.51|                  6.7|                  3|     S1003|                24.8|      61.63|             95.15|\n",
      "| 23|          96.85|         54.18|         CS|student4@universi...|                       Yes|               High|      78.89|      John|Female|    F|                    Yes|    Smith|        46.59|           High School|               5.97|         68.42|       83.7|                  7.1|                  2|     S1004|                15.4|      66.13|             54.18|\n",
      "| 21|           71.4|          NULL|Engineering|student5@universi...|                       Yes|               High|      43.53|      Liam|  Male|    B|                    Yes|    Brown|        78.85|                   PhD|               6.38|         67.29|       52.2|                  5.0|                  1|     S1005|                 8.5|      62.08|             75.67|\n",
      "| 24|          84.52|          57.6|   Business|student6@universi...|                        No|                Low|      89.07|     Ahmed|  Male|    F|                    Yes|    Jones|        66.26|                  NULL|                2.3|         93.65|       98.4|                  6.4|                  5|     S1006|                21.3|      83.21|              57.6|\n",
      "| 19|          80.12|         51.91|Engineering|student7@universi...|                       Yes|             Medium|      73.96|     Ahmed|  Male|    F|                     No|    Smith|        45.67|                  None|               3.73|         93.24|       95.9|                  4.3|                  4|     S1007|                27.3|      81.93|             51.91|\n",
      "| 21|          57.05|         85.97|         CS|student8@universi...|                        No|                Low|      90.87|      Omar|Female|    A|                     No|    Smith|        84.42|            Bachelor's|               0.51|         94.01|      56.33|                  8.8|                  9|     S1008|                 8.0|      95.62|             85.97|\n",
      "| 22|          96.98|         64.01|Engineering|student9@universi...|                        No|             Medium|      98.47|      Sara|Female|    A|                    Yes|    Smith|        87.96|                  None|               5.88|          78.6|      55.63|                  6.4|                 10|     S1009|                 9.6|      84.99|             64.01|\n",
      "| 23|          67.29|         85.72|         CS|student10@univers...|                        No|                Low|      97.43|      John|Female|    A|                    Yes|    Smith|        83.52|           High School|               4.59|         97.62|      76.95|                  4.1|                  1|     S1010|                13.2|      58.25|             85.72|\n",
      "| 20|          52.24|         77.75|Engineering|student11@univers...|                        No|                Low|      91.37|      Omar|Female|    C|                    Yes| Williams|        52.14|              Master's|               7.61|         90.95|      87.85|                  7.0|                  9|     S1011|                21.3|      87.58|             77.75|\n",
      "| 21|          65.02|         55.44|Engineering|student12@univers...|                        No|               High|      40.66|      John|  Male|    F|                    Yes|    Davis|        81.39|              Master's|               2.06|         70.78|      69.11|                  4.5|                  8|     S1012|                18.1|      59.06|             55.44|\n",
      "| 18|          66.78|         96.61|   Business|student13@univers...|                        No|             Medium|      93.14|      John|  Male|    A|                    Yes| Williams|        40.64|                  None|               4.37|         81.48|      56.82|                  7.9|                 10|     S1013|                22.8|      77.93|             96.61|\n",
      "| 19|          54.64|         72.62|Engineering|student14@univers...|                        No|                Low|       44.5|      Liam|  Male|    B|                    Yes| Williams|        58.31|                  None|               1.81|         56.09|      75.53|                  8.8|                  4|     S1014|                 5.8|      53.85|             72.62|\n",
      "| 18|           81.0|         86.72|         CS|student15@univers...|                        No|               High|      91.07|     Ahmed|  Male|    A|                    Yes|    Jones|        63.93|                  None|               6.14|         77.57|      66.88|                  8.6|                  2|     S1015|                25.3|      52.37|             86.72|\n",
      "| 21|          67.34|         75.05|         CS|student16@univers...|                        No|                Low|      56.81|     Maria|Female|    F|                    Yes|    Jones|        90.11|                  None|               8.48|         63.16|      67.59|                  6.1|                  3|     S1016|                29.7|      73.21|             75.05|\n",
      "| 23|          81.46|         80.22|   Business|student17@univers...|                        No|             Medium|       76.6|      Liam|Female|    F|                     No|    Davis|        63.42|                   PhD|               7.65|         64.18|      82.25|                  7.6|                 10|     S1017|                 6.2|      55.25|             80.22|\n",
      "| 20|          50.34|         65.14|         CS|student18@univers...|                        No|             Medium|      42.28|      Liam|  Male|    B|                    Yes|    Jones|        40.68|                  None|               9.44|         56.29|      94.28|                  4.8|                  9|     S1018|                17.4|      65.33|             65.14|\n",
      "| 20|           99.1|         60.02|Engineering|student19@univers...|                       Yes|                Low|      86.27|      John|  Male|    D|                    Yes|  Johnson|        61.14|                   PhD|               9.72|         67.91|      77.93|                  4.4|                 10|     S1019|                23.5|      66.94|             60.02|\n",
      "+---+---------------+--------------+-----------+--------------------+--------------------------+-------------------+-----------+----------+------+-----+-----------------------+---------+-------------+----------------------+-------------------+--------------+-----------+---------------------+-------------------+----------+--------------------+-----------+------------------+\n",
      "only showing top 20 rows\n",
      "\n"
     ]
    }
   ],
   "source": [
    "student_df_imputed.show()"
   ]
  },
  {
   "cell_type": "markdown",
   "id": "b455f456-8ab9-4188-a8b3-cdb07a3a2ca4",
   "metadata": {},
   "source": [
    "## Data Cache and Performance improvement"
   ]
  },
  {
   "cell_type": "code",
   "execution_count": 15,
   "id": "4248c266-32a5-4eb6-90f9-e8d0d420aadb",
   "metadata": {},
   "outputs": [
    {
     "data": {
      "text/plain": [
       "DataFrame[Invoice ID: string, Branch: string, City: string, Customer type: string, Gender: string, Product line: string, Unit price: string, Quantity: string, Tax 5%: string, Total: string, Date: string, Time: string, Payment: string, cogs: string, gross margin percentage: string, gross income: string, Rating: string]"
      ]
     },
     "execution_count": 15,
     "metadata": {},
     "output_type": "execute_result"
    }
   ],
   "source": [
    "sales_df.cache()"
   ]
  },
  {
   "cell_type": "code",
   "execution_count": 17,
   "id": "172f9480-b688-4bf5-a0bd-ea6f440139b6",
   "metadata": {},
   "outputs": [],
   "source": [
    "import pandas as pd"
   ]
  },
  {
   "cell_type": "code",
   "execution_count": 19,
   "id": "585c50e8-56b4-4542-b411-9e3896fd2411",
   "metadata": {},
   "outputs": [],
   "source": [
    "p_df = pd.DataFrame({'id':[1,2,3], 'value':[10,20,30]})\n",
    "df_spark = spark.createDataFrame(p_df)\n",
    "pdf_new = df_spark.toPandas()"
   ]
  },
  {
   "cell_type": "code",
   "execution_count": 20,
   "id": "58607c02-e2b1-4250-a0c9-7cbaf2b0907f",
   "metadata": {},
   "outputs": [
    {
     "name": "stdout",
     "output_type": "stream",
     "text": [
      "<class 'pyspark.sql.dataframe.DataFrame'>\n",
      "<class 'pandas.core.frame.DataFrame'>\n"
     ]
    }
   ],
   "source": [
    "print(type(df_spark))\n",
    "print(type(pdf_new))"
   ]
  },
  {
   "cell_type": "code",
   "execution_count": null,
   "id": "981fc912-8d5b-4047-8e0c-db4213738b7e",
   "metadata": {},
   "outputs": [],
   "source": []
  }
 ],
 "metadata": {
  "kernelspec": {
   "display_name": "Python 3 (ipykernel)",
   "language": "python",
   "name": "python3"
  },
  "language_info": {
   "codemirror_mode": {
    "name": "ipython",
    "version": 3
   },
   "file_extension": ".py",
   "mimetype": "text/x-python",
   "name": "python",
   "nbconvert_exporter": "python",
   "pygments_lexer": "ipython3",
   "version": "3.11.9"
  }
 },
 "nbformat": 4,
 "nbformat_minor": 5
}
